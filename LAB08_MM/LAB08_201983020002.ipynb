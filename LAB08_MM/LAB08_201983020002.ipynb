{
 "cells": [
  {
   "cell_type": "markdown",
   "metadata": {
    "slideshow": {
     "slide_type": "slide"
    }
   },
   "source": [
    "## <font color=blue> Python Lab #08 </font>: Understanding Entropy\n",
    "\n",
    "\n",
    "### Homework submission: School MOOC system\n",
    "### <font color=red> Due date: Dec. 1 (Wednesday), 24:00 </font>\n",
    "#### <font color=red> NOTE </font>: \n",
    "#1 ipynb file format should be <font color=red> LAB08_yourIDnumber.ipynb </font> ( ex:  LAB08_20185433224234.ipynb ).\n",
    "#2 If you don't follow the instructions here, there is <font color=red>10 % penalty</font>.\n",
    "\n",
    "#3 Any copied submission won't be graded. \n",
    "> 1) i.e., 0 point for every same copy. <br>\n",
    "> 2) Also, slight modification of one version will be regarded as copy. </font>\n",
    ">```python\n",
    ">if copy found:\n",
    ">    for all copies:\n",
    ">        score = 0\n",
    ">```    \n",
    "\n",
    "----"
   ]
  },
  {
   "cell_type": "markdown",
   "metadata": {
    "slideshow": {
     "slide_type": "slide"
    }
   },
   "source": [
    "#### (1) Generate message #1 with the following conditions. Caluculate probability and entropy of the message. Also, draw probability graph with bar plot.\n",
    "#### Condition: \n",
    "__message #1__\n",
    "* Containing 4 letters A, B, C, D\n",
    "* Given probability set = [0.25, 0.25, 0.25, 0.25] for generating message.\n",
    "* length = 10000\n",
    "* Random letters\n",
    "* __Calculate its entropy using counted probability__ of the generated message.\n",
    "\n",
    "__Note__ : Since the message is generated randomly, its letter's probability can not be the same as given probability set <br>  e.g., P{A} = 0.25 can be P{A} = 0.249 or 0.251, and so on."
   ]
  },
  {
   "cell_type": "code",
   "execution_count": 178,
   "metadata": {},
   "outputs": [
    {
     "name": "stdout",
     "output_type": "stream",
     "text": [
      "A 2531\n",
      "B 2491\n",
      "C 2437\n",
      "D 2541\n",
      "\n",
      "['A', 'B', 'C', 'D']\n",
      "[2531, 2491, 2437, 2541]\n"
     ]
    }
   ],
   "source": [
    "import random\n",
    "\n",
    "def GenMsg(figure,msgLen, lastLetter):\n",
    "    lastLetter = (lastLetter>figure)*figure+(lastLetter<=figure)*lastLetter\n",
    "    outString = ''\n",
    "    for i in range(msgLen):\n",
    "        tmpString = chr(random.Random(i).randrange(65, 65 + lastLetter + 1))\n",
    "        outString += tmpString\n",
    "    return outString\n",
    "\n",
    "msgLength = 10000\n",
    "lastChr = 3 \n",
    "outMsg = GenMsg(4, msgLength, lastChr)\n",
    "\n",
    "msgDict = dict((i, outMsg.count(i)) for i in outMsg)\n",
    "for key in sorted(msgDict.keys()):\n",
    "    print(key, msgDict[key])\n",
    "print()\n",
    "sortDict = dict((key, msgDict[key]) for key in sorted(msgDict.keys()))\n",
    "\n",
    "letterList = list(key for key in sortDict.keys())\n",
    "occurList = list(value for value in sortDict.values())\n",
    "print(letterList)\n",
    "print(occurList)"
   ]
  },
  {
   "cell_type": "code",
   "execution_count": 179,
   "metadata": {},
   "outputs": [
    {
     "data": {
      "image/png": "[encoded data removed]",
      "text/plain": [
       "<Figure size 576x360 with 1 Axes>"
      ]
     },
     "metadata": {
      "needs_background": "light"
     },
     "output_type": "display_data"
    },
    {
     "name": "stdout",
     "output_type": "stream",
     "text": [
      "entropy = 2.00 bit/sample\n"
     ]
    }
   ],
   "source": [
    "%matplotlib inline\n",
    "\n",
    "import numpy as np\n",
    "import matplotlib.pyplot as plt\n",
    "\n",
    "# Occurrence to probability: \n",
    "probList = np.array(occurList, dtype='float')/sum(occurList)\n",
    "\n",
    "fig = plt.figure(figsize = (8,5))\n",
    "rng = range(len(probList))\n",
    "\n",
    "plt.bar(rng, probList, color='peachpuff')\n",
    "plt.xlabel('Letter'); plt.ylabel('Probability')\n",
    "plt.xticks(rng, letterList)\n",
    "tmpString = 'Probability of Letters of message #1'\n",
    "plt.title(tmpString)\n",
    "\n",
    "\n",
    "for i in range(len(rng)):\n",
    "    plt.text(i, probList[i]-.02, '{:.2f}'.format(probList[i]))\n",
    "\n",
    "plt.show()\n",
    "\n",
    "# entropy part\n",
    "import math\n",
    "probList = list(float(i)/sum(occurList) for i in occurList)\n",
    "Hx = 0\n",
    "for i in range(len(probList)):\n",
    "    Hx += -probList[i]*math.log2(probList[i])\n",
    "Hx = (\"%.2f\" % Hx)\n",
    "\n",
    "\n",
    "print('entropy = '+Hx+' bit/sample')\n",
    "\n",
    "\n",
    "# letterList and occurList"
   ]
  },
  {
   "cell_type": "markdown",
   "metadata": {
    "slideshow": {
     "slide_type": "slide"
    }
   },
   "source": [
    "#### (2) Generate message #2 with the following conditions. Caluculate probability and entropy of the message. Also, draw probability graph with bar plot.\n",
    "#### Condition: \n",
    "__message #2__\n",
    "* Containing 4 letters A, B, C, D\n",
    "* Given probability set = [1.0, 0.0, 0.0, 0.0] for generating message.\n",
    "* length = 10000\n",
    "* Random letters\n",
    "* __Calculate its entropy using counted probability__ of the generated message."
   ]
  },
  {
   "cell_type": "code",
   "execution_count": 180,
   "metadata": {},
   "outputs": [
    {
     "name": "stdout",
     "output_type": "stream",
     "text": [
      "['A', 'B', 'C', 'D']\n",
      "[10000, 0, 0, 0]\n"
     ]
    }
   ],
   "source": [
    "import random\n",
    "\n",
    "def CountMsg(msg):\n",
    "    letterLst = ['A','B','C','D']\n",
    "    countLst = [0,0,0,0]\n",
    "    for i in range(len(msg)):\n",
    "        if msg[i] =='A':\n",
    "            countLst[0]+=1\n",
    "        elif msg[i] =='B':\n",
    "            countLst[1]+=1\n",
    "        elif msg[i] =='C':\n",
    "            countLst[2]+=1\n",
    "        else:\n",
    "            countLst[3]+=1\n",
    "    return (letterLst, countLst)\n",
    "\n",
    "def GenMsg(msgLen, lastLetter):\n",
    "#     lastLetter = (lastLetter>26)*26+(lastLetter<=26)*lastLetter\n",
    "    outString = ''\n",
    "    for i in range(msgLen):\n",
    "        tmpString = chr((random.random()<=1)*65+(random.random()>1)*66)\n",
    "        outString += tmpString\n",
    "    return outString\n",
    "\n",
    "# Python script\n",
    "msgLength = 10000\n",
    "lastChr = 3     # min: 0, max:26 (# alphabets)\n",
    "outMsg = GenMsg(msgLength, lastChr)\n",
    "\n",
    "# Counting letters\n",
    "lettLst, cntLst = CountMsg(outMsg)\n",
    "print(lettLst)\n",
    "print(cntLst)"
   ]
  },
  {
   "cell_type": "code",
   "execution_count": 181,
   "metadata": {},
   "outputs": [
    {
     "data": {
      "image/png": "[encoded data removed]",
      "text/plain": [
       "<Figure size 576x360 with 1 Axes>"
      ]
     },
     "metadata": {
      "needs_background": "light"
     },
     "output_type": "display_data"
    },
    {
     "name": "stdout",
     "output_type": "stream",
     "text": [
      "entropy = 0.00 bit/sample\n"
     ]
    }
   ],
   "source": [
    "%matplotlib inline\n",
    "\n",
    "import numpy as np\n",
    "import matplotlib.pyplot as plt\n",
    "\n",
    "# Occurrence to probability: \n",
    "probLst = np.array(cntLst, dtype='float')/sum(cntLst)\n",
    "\n",
    "fig = plt.figure(figsize = (8,5))\n",
    "rng = range(len(probLst))\n",
    "\n",
    "plt.bar(rng, probLst, color='peachpuff')\n",
    "plt.xlabel('Letter'); plt.ylabel('Probability')\n",
    "plt.xticks(rng, lettLst)\n",
    "tmpString = 'Probability of Letters of message #2'\n",
    "plt.title(tmpString)\n",
    "\n",
    "\n",
    "for i in range(len(rng)):\n",
    "    plt.text(i, probLst[i]-.02, '{:.2f}'.format(probLst[i]))\n",
    "\n",
    "plt.show()\n",
    "\n",
    "# entropy part\n",
    "import math\n",
    "probLst = list(float(i)/sum(cntLst) for i in cntLst)\n",
    "Hx1 = 0\n",
    "for i in range(len(probLst)):\n",
    "    if probLst[i]>0:\n",
    "        Hx1 += -probLst[i]*math.log2(probLst[i])\n",
    "    \n",
    "Hx1 = (\"%.2f\" % Hx1)\n",
    "\n",
    "\n",
    "print('entropy = '+Hx1+' bit/sample')\n",
    "\n",
    "\n",
    "# lettLst and cntLst"
   ]
  },
  {
   "cell_type": "markdown",
   "metadata": {
    "slideshow": {
     "slide_type": "slide"
    }
   },
   "source": [
    "#### (3) Generate message #3 with the following conditions. Caluculate probability and entropy of the message. Also, draw probability graph with bar plot.\n",
    "#### Condition: \n",
    "__message #3__\n",
    "* Containing 4 letters A, B, C, D\n",
    "* Given probability set = [0.75, 0.05, 0.10, 0.10] for generating message.\n",
    "* length = 10000\n",
    "* Random letters\n",
    "* __Calculate its entropy using counted probability__ of the generated message."
   ]
  },
  {
   "cell_type": "code",
   "execution_count": 182,
   "metadata": {
    "scrolled": true
   },
   "outputs": [
    {
     "name": "stdout",
     "output_type": "stream",
     "text": [
      "['A', 'B', 'C', 'D']\n",
      "[7478, 553, 1008, 961]\n"
     ]
    }
   ],
   "source": [
    "import random\n",
    "\n",
    "def GenMsg1(msgLen):\n",
    "    letter = ['A','B','C','D']\n",
    "    possibility = np.array([0.75,0.05,0.10,0.10])\n",
    "    outString = ''\n",
    "    for i in range(msgLen):\n",
    "        outString += np.random.choice(letter,p=possibility.ravel())\n",
    "    return outString\n",
    "   \n",
    "\n",
    "# Python script\n",
    "msgLength = 10000\n",
    "# lastChr = 3     # min: 0, max:26 (# alphabets)\n",
    "outMsg = GenMsg1(msgLength)\n",
    "\n",
    "# Counting letters\n",
    "lettLst1, cntLst1 = CountMsg(outMsg)\n",
    "print(lettLst1)\n",
    "print(cntLst1)"
   ]
  },
  {
   "cell_type": "code",
   "execution_count": 183,
   "metadata": {},
   "outputs": [
    {
     "data": {
      "image/png": "[encoded data removed]",
      "text/plain": [
       "<Figure size 576x360 with 1 Axes>"
      ]
     },
     "metadata": {
      "needs_background": "light"
     },
     "output_type": "display_data"
    },
    {
     "name": "stdout",
     "output_type": "stream",
     "text": [
      "entropy = 1.20 bit/sample\n"
     ]
    }
   ],
   "source": [
    "%matplotlib inline\n",
    "\n",
    "import numpy as np\n",
    "import matplotlib.pyplot as plt\n",
    "\n",
    "# Occurrence to probability: \n",
    "probLst1 = np.array(cntLst1, dtype='float')/sum(cntLst1)\n",
    "\n",
    "fig = plt.figure(figsize = (8,5))\n",
    "rng = range(len(probLst1))\n",
    "\n",
    "plt.bar(rng, probLst1, color='peachpuff')\n",
    "plt.xlabel('Letter'); plt.ylabel('Probability')\n",
    "plt.xticks(rng, lettLst1)\n",
    "tmpString = 'Probability of message #3'\n",
    "plt.title(tmpString)\n",
    "\n",
    "\n",
    "for i in range(len(rng)):\n",
    "    plt.text(i, probLst1[i]-.02, '{:.2f}'.format(probLst1[i]))\n",
    "\n",
    "plt.show()\n",
    "\n",
    "# entropy part\n",
    "import math\n",
    "probLst1 = list(float(i)/sum(cntLst1) for i in cntLst1)\n",
    "Hx2 = 0\n",
    "for i in range(len(probLst1)):\n",
    "    Hx2 += -probLst1[i]*math.log2(probLst1[i])\n",
    "    \n",
    "Hx2 = (\"%.2f\" % Hx2)\n",
    "\n",
    "\n",
    "print('entropy = '+Hx2+' bit/sample')\n",
    "\n",
    "\n",
    "# lettLst1 and cntLst1"
   ]
  },
  {
   "cell_type": "markdown",
   "metadata": {
    "slideshow": {
     "slide_type": "slide"
    }
   },
   "source": [
    "#### (4) Generate message #4 with the following conditions. Caluculate probability and entropy of the message. Also, draw probability graph with bar plot.\n",
    "#### Condition: \n",
    "__message #4__\n",
    "* Containing 4 letters A, B, C, D\n",
    "* Given probability set = [0.25, 0.25, 0.40, 0.10] for generating message.\n",
    "* length = 10000\n",
    "* Random letters\n",
    "* __Calculate its entropy using counted probability__ of the generated message."
   ]
  },
  {
   "cell_type": "code",
   "execution_count": 184,
   "metadata": {},
   "outputs": [
    {
     "name": "stdout",
     "output_type": "stream",
     "text": [
      "['A', 'B', 'C', 'D']\n",
      "[2520, 2491, 3966, 1023]\n"
     ]
    }
   ],
   "source": [
    "import random\n",
    "\n",
    "\n",
    "def GenMsg1(msgLen):\n",
    "    \n",
    "    letter = ['A','B','C','D']\n",
    "    possibility = np.array([0.25,0.25,0.40,0.10])\n",
    "    outString = ''\n",
    "    for i in range(msgLen):\n",
    "        outString += np.random.choice(letter,p=possibility.ravel())\n",
    "    return outString\n",
    "   \n",
    "\n",
    "# Python script\n",
    "msgLength = 10000\n",
    "# lastChr = 3     # min: 0, max:26 (# alphabets)\n",
    "outMsg = GenMsg1(msgLength)\n",
    "\n",
    "# Counting letters\n",
    "lettLst2, cntLst2 = CountMsg(outMsg)\n",
    "print(lettLst2)\n",
    "print(cntLst2)"
   ]
  },
  {
   "cell_type": "code",
   "execution_count": 185,
   "metadata": {
    "scrolled": false,
    "slideshow": {
     "slide_type": "fragment"
    }
   },
   "outputs": [
    {
     "data": {
      "image/png": "[encoded data removed]",
      "text/plain": [
       "<Figure size 576x360 with 1 Axes>"
      ]
     },
     "metadata": {
      "needs_background": "light"
     },
     "output_type": "display_data"
    },
    {
     "name": "stdout",
     "output_type": "stream",
     "text": [
      "entropy = 1.87 bit/sample\n"
     ]
    }
   ],
   "source": [
    "%matplotlib inline\n",
    "\n",
    "import numpy as np\n",
    "import matplotlib.pyplot as plt\n",
    "\n",
    "# Occurrence to probability: \n",
    "probLst2 = np.array(cntLst2, dtype='float')/sum(cntLst2)\n",
    "\n",
    "fig = plt.figure(figsize = (8,5))\n",
    "rng = range(len(probLst2))\n",
    "\n",
    "plt.bar(rng, probLst2, color='peachpuff')\n",
    "plt.xlabel('Letter'); plt.ylabel('Probability')\n",
    "plt.xticks(rng, lettLst2)\n",
    "tmpString = 'Probability of message #4'\n",
    "plt.title(tmpString)\n",
    "\n",
    "\n",
    "for i in range(len(rng)):\n",
    "    plt.text(i, probLst2[i]-.02, '{:.2f}'.format(probLst2[i]))\n",
    "\n",
    "plt.show()\n",
    "\n",
    "# entropy part\n",
    "import math\n",
    "probLst2 = list(float(i)/sum(cntLst2) for i in cntLst2)\n",
    "Hx3 = 0\n",
    "for i in range(len(probLst2)):\n",
    "    Hx3 += -probLst2[i]*math.log2(probLst2[i])\n",
    "    \n",
    "Hx3 = (\"%.2f\" % Hx3)\n",
    "\n",
    "\n",
    "print('entropy = '+Hx3+' bit/sample')\n",
    "\n",
    "\n",
    "# lettLst1 and cntLst1"
   ]
  },
  {
   "cell_type": "markdown",
   "metadata": {
    "slideshow": {
     "slide_type": "slide"
    }
   },
   "source": [
    "#### (5) Draw probability graph of message #1 to #4 using 2x2 subplot and bar plot."
   ]
  },
  {
   "cell_type": "code",
   "execution_count": 186,
   "metadata": {
    "scrolled": false,
    "slideshow": {
     "slide_type": "fragment"
    }
   },
   "outputs": [
    {
     "data": {
      "image/png": "[encoded data removed]",
      "text/plain": [
       "<Figure size 720x432 with 4 Axes>"
      ]
     },
     "metadata": {
      "needs_background": "light"
     },
     "output_type": "display_data"
    }
   ],
   "source": [
    "\n",
    "fig = plt.figure(figsize = (10,6))\n",
    "plt.subplot(221)\n",
    "probList = np.array(occurList, dtype='float')/sum(occurList)\n",
    "\n",
    "rng = range(len(probList))\n",
    "\n",
    "plt.bar(rng, probList, color='peachpuff')\n",
    "plt.xlabel('Letter'); plt.ylabel('Probability')\n",
    "plt.xticks(rng, letterList)\n",
    "tmpString = 'Probability of Letters of message #1'\n",
    "plt.title(tmpString)\n",
    "\n",
    "\n",
    "for i in range(len(rng)):\n",
    "    plt.text(i, probList[i]-.02, '{:.2f}'.format(probList[i]))\n",
    "\n",
    "\n",
    "plt.subplot(222)\n",
    "probLst = np.array(cntLst, dtype='float')/sum(cntLst)\n",
    "\n",
    "# fig = plt.figure(figsize = (8,5))\n",
    "rng = range(len(probLst))\n",
    "\n",
    "plt.bar(rng, probLst, color='peachpuff')\n",
    "plt.xlabel('Letter'); plt.ylabel('Probability')\n",
    "plt.xticks(rng, lettLst)\n",
    "tmpString = 'Probability of Letters of message #2'\n",
    "plt.title(tmpString)\n",
    "\n",
    "\n",
    "for i in range(len(rng)):\n",
    "    plt.text(i, probLst[i]-.02, '{:.2f}'.format(probLst[i]))\n",
    "    \n",
    "plt.subplot(223)\n",
    "probLst1 = np.array(cntLst1, dtype='float')/sum(cntLst1)\n",
    "\n",
    "rng = range(len(probLst1))\n",
    "\n",
    "plt.bar(rng, probLst1, color='peachpuff')\n",
    "plt.xlabel('Letter'); plt.ylabel('Probability')\n",
    "plt.xticks(rng, lettLst1)\n",
    "tmpString = 'Probability of message #3'\n",
    "plt.title(tmpString)\n",
    "\n",
    "\n",
    "for i in range(len(rng)):\n",
    "    plt.text(i, probLst1[i]-.02, '{:.2f}'.format(probLst1[i]))\n",
    "\n",
    "plt.subplot(224)\n",
    "probLst2 = np.array(cntLst2, dtype='float')/sum(cntLst2)\n",
    "\n",
    "rng = range(len(probLst2))\n",
    "\n",
    "plt.bar(rng, probLst2, color='peachpuff')\n",
    "plt.xlabel('Letter'); plt.ylabel('Probability')\n",
    "plt.xticks(rng, lettLst2)\n",
    "tmpString = 'Probability of message #4'\n",
    "plt.title(tmpString)\n",
    "\n",
    "\n",
    "for i in range(len(rng)):\n",
    "    plt.text(i, probLst2[i]-.02, '{:.2f}'.format(probLst2[i]))\n",
    "\n",
    "\n",
    "fig.tight_layout()\n",
    "plt.show()"
   ]
  },
  {
   "cell_type": "markdown",
   "metadata": {
    "slideshow": {
     "slide_type": "slide"
    }
   },
   "source": [
    "#### (6) Draw entropy graph or message #1 to #4 using bar plot and ,<font color=red> discuss why</font> the entropy of each message changes\n",
    "__NOTE__ : when you calculate entropy and don't forget to avoid $log_2( 0 )$ = - infinity"
   ]
  },
  {
   "cell_type": "code",
   "execution_count": 195,
   "metadata": {},
   "outputs": [
    {
     "data": {
      "image/png": "[encoded data removed]",
      "text/plain": [
       "<Figure size 432x288 with 1 Axes>"
      ]
     },
     "metadata": {
      "needs_background": "light"
     },
     "output_type": "display_data"
    }
   ],
   "source": [
    "data = [float(Hx), float(Hx1), float(Hx2), float(Hx3)]\n",
    "labels = ['MSG#1','MSG#2', 'MSG#3','MSG#4']\n",
    " \n",
    "plt.bar(range(len(data)), data, tick_label=labels)\n",
    "for i in range(len(data)):\n",
    "    plt.text(i, data[i]-.02, '{:.2f}'.format(data[i]))\n",
    "plt.show()"
   ]
  },
  {
   "cell_type": "markdown",
   "metadata": {},
   "source": [
    "<h> <font color=red> **Observation:** value unstable↑,entropy↑.</font> </h>\n"
   ]
  },
  {
   "cell_type": "markdown",
   "metadata": {},
   "source": [
    "#### (7) Show the probability of pixel value (i.e., 0 - 255) of lena image ('lena.jpg'). \n",
    "\n",
    "__Tip__: Still, we can use Counter() if we change a 2D image to 1D data. Check `numpy.ravel()`.\n",
    "https://www.geeksforgeeks.org/numpy-ravel-python/"
   ]
  },
  {
   "cell_type": "code",
   "execution_count": 1,
   "metadata": {},
   "outputs": [
    {
     "name": "stdout",
     "output_type": "stream",
     "text": [
      "<class 'numpy.ndarray'>\n",
      "[161 162 163 ... 102 110 107]\n"
     ]
    },
    {
     "data": {
      "text/plain": [
       "<Figure size 640x480 with 1 Axes>"
      ]
     },
     "metadata": {},
     "output_type": "display_data"
    }
   ],
   "source": [
    "import matplotlib.pyplot as plt\n",
    "import numpy as np\n",
    "\n",
    "img = plt.imread('./lena.jpg')\n",
    "print(img.ravel())\n",
    "\n",
    "plt.rc('font', family='STSong')\n",
    "plt.hist(img.ravel(), bins=225)\n",
    "plt.show()"
   ]
  },
  {
   "cell_type": "markdown",
   "metadata": {},
   "source": [
    "#### (8) Calculate the entropy and coding efficiency of lena image. <br> <font color=blue> How much can we compress the image more?</font> Is it good enough?\n",
    "__NOTE__: \n",
    "* Coding efficiency: check lecture slides \"07.CH7.Overview.Compression.Part01.pdf\" pp.25.\n",
    "* Let's assume that average code length of the image is 8 bits."
   ]
  },
  {
   "cell_type": "code",
   "execution_count": 4,
   "metadata": {},
   "outputs": [
    {
     "name": "stdout",
     "output_type": "stream",
     "text": [
      "entropy = 7.45 bit/symbol, Coding efficiency = 93.12 %\n",
      "\n"
     ]
    }
   ],
   "source": [
    "import math\n",
    "from collections import Counter\n",
    "\n",
    "arr = Counter(img.ravel())\n",
    "keys = list(key for key in arr.keys())\n",
    "values = list(value for value in arr.values())\n",
    "\n",
    "probList = np.array(values, dtype='float')/sum(values)\n",
    "probList = list(float(i)/sum(values) for i in values)\n",
    "Hx = 0\n",
    "for i in range(len(probList)):\n",
    "    Hx += -probList[i]*math.log2(probList[i])\n",
    "Hx = (\"%.2f\" % Hx)\n",
    "efficiency = (float(Hx)/8)*100\n",
    "print('entropy = '+Hx+' bit/symbol, Coding efficiency = '+(\"%.2f\" %efficiency)+' %')\n",
    "print()"
   ]
  },
  {
   "cell_type": "markdown",
   "metadata": {},
   "source": [
    "<font color=red>1.we can save about 1/4 because only half of the code length needs 8 bits. the average code length is actually less than 8 bits.\n",
    "2. not good enough because there exist some code length of 3 or 4 bits.</font> <br>"
   ]
  },
  {
   "cell_type": "markdown",
   "metadata": {},
   "source": [
    "#### (9) Make a difference image of lena. And show the probability of difference image using bar plot. \n",
    "\n",
    "__NOTE__:\n",
    "* Definition of diff. pixel, $d[i,j] = x[i,j] - x[i,j-1]$, <br>\n",
    "  where i: row, j: column, x: image.\n",
    "* Apply the above operation to whole pixels __except the first column__ pixels of lena.\n",
    "\n",
    "\n",
    "* Example of diff. pixels<br>\n",
    "    org pixels  = [10, 11, 10, 13] <br>\n",
    "    diff pixels = [10, 1 , -1,  3] "
   ]
  },
  {
   "cell_type": "code",
   "execution_count": 23,
   "metadata": {},
   "outputs": [
    {
     "name": "stdout",
     "output_type": "stream",
     "text": [
      "[[161.   1.   1. ...  -3. -18. -24.]\n",
      " [162.   0.   0. ...  -1. -17. -25.]\n",
      " [163.   0.  -1. ...   0. -15. -27.]\n",
      " ...\n",
      " [ 44.   0.   4. ...   2.  -1.  -2.]\n",
      " [ 45.  -1.   7. ...   2.   5.  -3.]\n",
      " [ 43.   2.  12. ...   3.   8.  -3.]]\n",
      "[[161 162 163 ... 170 152 128]\n",
      " [162 162 162 ... 171 154 129]\n",
      " [163 163 162 ... 170 155 128]\n",
      " ...\n",
      " [ 44  44  48 ... 102 101  99]\n",
      " [ 45  44  51 ... 103 108 105]\n",
      " [ 43  45  57 ... 102 110 107]]\n"
     ]
    }
   ],
   "source": [
    "import numpy as np\n",
    "s = img.tolist()\n",
    "a = np.zeros((512,512))\n",
    "for i in range(len(s)):\n",
    "    for j in range(len(s[i])):\n",
    "        if j >0:\n",
    "            if (s[i][j]-s[i][j-1])>0:\n",
    "                a[i][j] = s[i][j]-s[i][j-1]\n",
    "            else:\n",
    "                a[i][j] = -(s[i][j-1]-s[i][j])\n",
    "        else:\n",
    "            a[i][j] = s[i][j] \n",
    "print(a)"
   ]
  },
  {
   "cell_type": "code",
   "execution_count": 34,
   "metadata": {},
   "outputs": [
    {
     "name": "stderr",
     "output_type": "stream",
     "text": [
      "C:\\Users\\Blanche\\Anaconda3\\lib\\site-packages\\matplotlib\\axes\\_axes.py:6571: UserWarning: The 'normed' kwarg is deprecated, and has been replaced by the 'density' kwarg.\n",
      "  warnings.warn(\"The 'normed' kwarg is deprecated, and has been \"\n"
     ]
    },
    {
     "data": {
      "image/png": "[encoded data removed]",
      "text/plain": [
       "<Figure size 432x288 with 1 Axes>"
      ]
     },
     "metadata": {
      "needs_background": "light"
     },
     "output_type": "display_data"
    }
   ],
   "source": [
    "plt.rc('font', family='STSong')\n",
    "plt.hist(a.ravel(), bins=200, normed=1,range=(-100,100))\n",
    "plt.show()"
   ]
  },
  {
   "cell_type": "markdown",
   "metadata": {},
   "source": [
    "#### (10) Calculate the entropy and coding efficiency of the difference image. And <font color=red>discuss why</font> the entropy and coding efficiency are different from problem (8).\n",
    "__NOTE__: Let's assume that average code length of the image is 8 bits."
   ]
  },
  {
   "cell_type": "code",
   "execution_count": 35,
   "metadata": {},
   "outputs": [
    {
     "name": "stdout",
     "output_type": "stream",
     "text": [
      "entropy = 5.02 bit/symbol, Coding efficiency = 62.75 %\n",
      "\n"
     ]
    }
   ],
   "source": [
    "import math\n",
    "from collections import Counter\n",
    "\n",
    "arr = Counter(a.ravel())\n",
    "keys = list(key for key in arr.keys())\n",
    "values = list(value for value in arr.values())\n",
    "\n",
    "probList = np.array(values, dtype='float')/sum(values)\n",
    "probList = list(float(i)/sum(values) for i in values)\n",
    "Hx = 0\n",
    "for i in range(len(probList)):\n",
    "    Hx += -probList[i]*math.log2(probList[i])\n",
    "Hx = (\"%.2f\" % Hx)\n",
    "efficiency = (float(Hx)/8)*100\n",
    "print('entropy = '+Hx+' bit/symbol, Coding efficiency = '+(\"%.2f\" %efficiency)+' %')\n",
    "print()"
   ]
  },
  {
   "cell_type": "markdown",
   "metadata": {},
   "source": [
    "<h> <font color=red> **Your answer: the data concentrate arount 0 and don't change a lot. Then entropy↓ leads to coding efficiency↓ .** </font> </h>\n"
   ]
  }
 ],
 "metadata": {
  "kernelspec": {
   "display_name": "Python 3 (ipykernel)",
   "language": "python",
   "name": "python3"
  },
  "language_info": {
   "codemirror_mode": {
    "name": "ipython",
    "version": 3
   },
   "file_extension": ".py",
   "mimetype": "text/x-python",
   "name": "python",
   "nbconvert_exporter": "python",
   "pygments_lexer": "ipython3",
   "version": "3.9.7"
  }
 },
 "nbformat": 4,
 "nbformat_minor": 2
}
