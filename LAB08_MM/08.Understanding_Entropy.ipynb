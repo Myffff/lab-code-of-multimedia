{
 "cells": [
  {
   "cell_type": "markdown",
   "metadata": {
    "slideshow": {
     "slide_type": "slide"
    }
   },
   "source": [
    "## Understanding Entropy\n",
    "### We will discuss \n",
    "+ __How to generate a message__ randomly with letters. \n",
    "+ __How to count the occurrence__ of each letter and calculate its probability. \n"
   ]
  },
  {
   "cell_type": "markdown",
   "metadata": {
    "slideshow": {
     "slide_type": "slide"
    }
   },
   "source": [
    "### <font color=purple> Text message </font>\n",
    "### &#9632; How to generate random English alphabets"
   ]
  },
  {
   "cell_type": "code",
   "execution_count": 3,
   "metadata": {
    "scrolled": true,
    "slideshow": {
     "slide_type": "fragment"
    }
   },
   "outputs": [
    {
     "name": "stdout",
     "output_type": "stream",
     "text": [
      "ABCDEFGHIJKLMNOPQRSTUVWXYZ\n"
     ]
    },
    {
     "data": {
      "text/plain": [
       "'ZXQZNRBYENXSLIGFFSQJ'"
      ]
     },
     "execution_count": 3,
     "metadata": {},
     "output_type": "execute_result"
    }
   ],
   "source": [
    "import string\n",
    "import random\n",
    "\n",
    "def GetString():\n",
    "    outString = string.ascii_uppercase\n",
    "    return outString\n",
    "\n",
    "def GenMsg(msgLen):\n",
    "    keylist = [random.choice(GetString()) for i in range(msgLen)]\n",
    "    return (''.join(keylist))\n",
    "\n",
    "# Python script\n",
    "msgLength = 20\n",
    "\n",
    "lst = [i for i in range(10)]\n",
    "print(string.ascii_uppercase) # This will print letters from A to Z\n",
    "print(random.choice(lst))     # This will choose a value of input data randomly\n",
    "\n",
    "GenMsg(msgLength)"
   ]
  },
  {
   "cell_type": "markdown",
   "metadata": {
    "slideshow": {
     "slide_type": "slide"
    }
   },
   "source": [
    "The above codes generates letters randomly, however, we need to fix its state to generate random but the same letters sometimes.\n",
    "\n",
    "#### How to fix the state of random number generator\n",
    "We will use `random.Random()` for this purpose. \n",
    "`random.Random()` behaves like a random generator with a seed.\n",
    "\n",
    "In ASCII code, alphabet A to Z is from 65 to 90 and a to z is from 97 to 122.\n",
    "\n",
    "Reference: ASCII Chart <br>\n",
    "https://python-reference.readthedocs.io/en/latest/docs/str/ASCII.html"
   ]
  },
  {
   "cell_type": "code",
   "execution_count": 5,
   "metadata": {
    "slideshow": {
     "slide_type": "fragment"
    }
   },
   "outputs": [
    {
     "data": {
      "text/plain": [
       "'MEBHHTZKHOSOPIDGLQFVXFEYWMXUDRRACSQRKVUG'"
      ]
     },
     "execution_count": 5,
     "metadata": {},
     "output_type": "execute_result"
    }
   ],
   "source": [
    "import random\n",
    "\n",
    "def GenMsg(msgLen, lastLetter):\n",
    "    # Make sure that # of alphabets can't be larger than 26.\n",
    "    lastLetter = (lastLetter>25)*25+(lastLetter<=25)*lastLetter\n",
    "    \n",
    "    outString = ''\n",
    "    for i in range(msgLen):\n",
    "        tmpString = chr(random.Random(i).randrange(65, 65 + lastLetter + 1))\n",
    "        # This code is equivalent to the above line\n",
    "        #tmpString = chr(random.Random(i).randrange(97, 97 + lastLetter + 1)).upper()\n",
    "\n",
    "        outString += tmpString\n",
    "    return outString\n",
    "\n",
    "# Python script\n",
    "msgLength = 40\n",
    "lastChr = 25     # min: 0, max:25 (# of alphabets)\n",
    "\n",
    "GenMsg(msgLength, lastChr)"
   ]
  },
  {
   "cell_type": "markdown",
   "metadata": {
    "slideshow": {
     "slide_type": "slide"
    }
   },
   "source": [
    "#### Tips: ordinal numbers to characters and vice versa"
   ]
  },
  {
   "cell_type": "code",
   "execution_count": 5,
   "metadata": {
    "slideshow": {
     "slide_type": "fragment"
    }
   },
   "outputs": [
    {
     "name": "stdout",
     "output_type": "stream",
     "text": [
      "[65, 66, 67, 68]\n",
      "['A', 'B', 'C', 'D']\n",
      "[65, 66, 67, 68]\n"
     ]
    }
   ],
   "source": [
    "a = [65, 66, 67, 68]\n",
    "b = list(chr(num) for num in a)\n",
    "c = list(ord(character) for character in b)\n",
    "\n",
    "print(a)\n",
    "print(b)\n",
    "print(c)"
   ]
  },
  {
   "cell_type": "markdown",
   "metadata": {
    "slideshow": {
     "slide_type": "slide"
    }
   },
   "source": [
    "### &#9632; Counting the occurrence of each letter: \n",
    "#### Method 1: using string method `count()` and dictionary datatype"
   ]
  },
  {
   "cell_type": "code",
   "execution_count": 17,
   "metadata": {
    "scrolled": true,
    "slideshow": {
     "slide_type": "fragment"
    }
   },
   "outputs": [
    {
     "name": "stdout",
     "output_type": "stream",
     "text": [
      "DBABBCACBDADDCABCDBABBBCDDBDAACAABCCCADB <class 'str'>\n",
      "{'D': 9, 'B': 12, 'A': 10, 'C': 9}\n",
      "10\n",
      "True\n"
     ]
    }
   ],
   "source": [
    "import random\n",
    "\n",
    "def GenMsg(msgLen, lastLetter):\n",
    "    lastLetter = (lastLetter>26)*26+(lastLetter<=26)*lastLetter\n",
    "    outString = ''\n",
    "    for i in range(msgLen):\n",
    "        tmpString = chr(random.Random(i).randrange(65, 65 + lastLetter + 1))\n",
    "        outString += tmpString\n",
    "    return outString\n",
    "\n",
    "# Python script\n",
    "msgLength = 40\n",
    "lastChr = 3     # min: 0, max:25 (# alphabets)\n",
    "outMsg = GenMsg(msgLength, lastChr)\n",
    "print(outMsg, type(outMsg))\n",
    "\n",
    "# Counting letters\n",
    "msgDict = dict((i, outMsg.count(i)) for i in outMsg)\n",
    "print(msgDict)\n",
    "print(msgDict['A'])\n",
    "print('A' in msgDict)"
   ]
  },
  {
   "cell_type": "markdown",
   "metadata": {
    "slideshow": {
     "slide_type": "slide"
    }
   },
   "source": [
    "#### Method 2: using `Counter()` in collections module"
   ]
  },
  {
   "cell_type": "code",
   "execution_count": 26,
   "metadata": {
    "scrolled": false,
    "slideshow": {
     "slide_type": "fragment"
    }
   },
   "outputs": [
    {
     "name": "stdout",
     "output_type": "stream",
     "text": [
      "DBABBCACBDADDCABCDBABBBCDDBDAACAABCCCADB <class 'str'>\n",
      "{'D': 9, 'B': 12, 'A': 10, 'C': 9}\n",
      "10\n",
      "True\n"
     ]
    }
   ],
   "source": [
    "import random\n",
    "from collections import Counter\n",
    "\n",
    "def GenMsg(msgLen, lastLetter):\n",
    "    lastLetter = (lastLetter>26)*26+(lastLetter<=26)*lastLetter\n",
    "    outString = ''\n",
    "    for i in range(msgLen):\n",
    "        tmpString = chr(random.Random(i).randrange(65, 65 + lastLetter + 1))\n",
    "        outString += tmpString\n",
    "    return outString\n",
    "\n",
    "# Python script\n",
    "msgLength = 40\n",
    "lastChr = 3     # min: 0, max:25 (# alphabets)\n",
    "outMsg = GenMsg(msgLength, lastChr)\n",
    "print(outMsg, type(outMsg))\n",
    "\n",
    "# Counting letters\n",
    "msgDict1 = dict(Counter(outMsg))\n",
    "print(msgDict1)\n",
    "print(msgDict1['A'])\n",
    "print('A' in msgDict1)"
   ]
  },
  {
   "cell_type": "markdown",
   "metadata": {
    "slideshow": {
     "slide_type": "slide"
    }
   },
   "source": [
    "#### Or you can define a simple counting function: Method 3"
   ]
  },
  {
   "cell_type": "code",
   "execution_count": 39,
   "metadata": {
    "scrolled": true,
    "slideshow": {
     "slide_type": "fragment"
    }
   },
   "outputs": [
    {
     "name": "stdout",
     "output_type": "stream",
     "text": [
      "AAAAAAAAAAAAAAAAAAAAAAAAAAAAAAAAAAAAAAAA <class 'str'>\n",
      "['A', 'B', 'C', 'D']\n",
      "[40, 0, 0, 0]\n"
     ]
    }
   ],
   "source": [
    "import random\n",
    "\n",
    "def CountMsg(msg):\n",
    "    letterLst = ['A','B','C','D']\n",
    "    countLst = [0,0,0,0]\n",
    "    for i in range(len(msg)):\n",
    "        if msg[i] =='A':\n",
    "            countLst[0]+=1\n",
    "        elif msg[i] =='A':\n",
    "            countLst[1]+=1\n",
    "        elif msg[i] =='C':\n",
    "            countLst[2]+=1\n",
    "        else:\n",
    "            countLst[3]+=1\n",
    "    return (letterLst, countLst)\n",
    "\n",
    "def CountLetter(msg, letter):\n",
    "    cnt=0\n",
    "    for i in msg:\n",
    "        if letter == i:\n",
    "            cnt += 1\n",
    "    return cnt\n",
    "\n",
    "def GenMsg(msgLen, lastLetter):\n",
    "#     lastLetter = (lastLetter>26)*26+(lastLetter<=26)*lastLetter\n",
    "    outString = ''\n",
    "    for i in range(msgLen):\n",
    "        tmpString = chr((random.random()<=1)*65+(random.random()>1)*66)\n",
    "        outString += tmpString\n",
    "    return outString\n",
    "\n",
    "# Python script\n",
    "msgLength = 40\n",
    "lastChr = 3     # min: 0, max:26 (# alphabets)\n",
    "outMsg = GenMsg(msgLength, lastChr)\n",
    "print(outMsg, type(outMsg))\n",
    "\n",
    "# Counting letters\n",
    "lettLst, cntLst = CountMsg(outMsg)\n",
    "print(lettLst)\n",
    "print(cntLst)"
   ]
  },
  {
   "cell_type": "markdown",
   "metadata": {
    "slideshow": {
     "slide_type": "slide"
    }
   },
   "source": [
    "### &#9632; Sorting dictionary"
   ]
  },
  {
   "cell_type": "code",
   "execution_count": 18,
   "metadata": {
    "scrolled": false,
    "slideshow": {
     "slide_type": "fragment"
    }
   },
   "outputs": [
    {
     "name": "stdout",
     "output_type": "stream",
     "text": [
      "D 9\n",
      "B 12\n",
      "A 10\n",
      "C 9\n"
     ]
    }
   ],
   "source": [
    "for key, value in msgDict.items():\n",
    "    print(key, value)"
   ]
  },
  {
   "cell_type": "markdown",
   "metadata": {
    "slideshow": {
     "slide_type": "slide"
    }
   },
   "source": [
    "In fact, it's better to have a sorted dictionary because it is intuitive. "
   ]
  },
  {
   "cell_type": "code",
   "execution_count": 19,
   "metadata": {
    "scrolled": true,
    "slideshow": {
     "slide_type": "fragment"
    }
   },
   "outputs": [
    {
     "name": "stdout",
     "output_type": "stream",
     "text": [
      "A 10\n",
      "B 12\n",
      "C 9\n",
      "D 9\n",
      "\n",
      "{'A': 10, 'B': 12, 'C': 9, 'D': 9}\n"
     ]
    }
   ],
   "source": [
    "for key in sorted(msgDict.keys()):\n",
    "    print(key, msgDict[key])\n",
    "\n",
    "print()\n",
    "# Sorted dictionary (by generating a new one)\n",
    "sortDict = dict((key, msgDict[key]) for key in sorted(msgDict.keys()))\n",
    "print(sortDict) "
   ]
  },
  {
   "cell_type": "markdown",
   "metadata": {
    "slideshow": {
     "slide_type": "slide"
    }
   },
   "source": [
    "Let's get an occurrence list for prabability graph."
   ]
  },
  {
   "cell_type": "code",
   "execution_count": 20,
   "metadata": {
    "scrolled": true,
    "slideshow": {
     "slide_type": "fragment"
    }
   },
   "outputs": [
    {
     "name": "stdout",
     "output_type": "stream",
     "text": [
      "['A', 'B', 'C', 'D']\n",
      "[10, 12, 9, 9]\n"
     ]
    }
   ],
   "source": [
    "letterList = list(key for key in sortDict.keys())\n",
    "occurList = list(value for value in sortDict.values())\n",
    "print(letterList)\n",
    "print(occurList)"
   ]
  },
  {
   "cell_type": "markdown",
   "metadata": {
    "slideshow": {
     "slide_type": "slide"
    }
   },
   "source": [
    "### &#9632; Histogram: occurrence graph"
   ]
  },
  {
   "cell_type": "code",
   "execution_count": 12,
   "metadata": {
    "slideshow": {
     "slide_type": "fragment"
    }
   },
   "outputs": [
    {
     "data": {
      "image/png": "[encoded data removed]",
      "text/plain": [
       "<Figure size 576x360 with 1 Axes>"
      ]
     },
     "metadata": {
      "needs_background": "light"
     },
     "output_type": "display_data"
    }
   ],
   "source": [
    "%matplotlib inline\n",
    "\n",
    "import numpy as np\n",
    "import matplotlib.pyplot as plt\n",
    "\n",
    "fig = plt.figure(figsize = (8,5))\n",
    "rng = range(len(occurList))\n",
    "\n",
    "plt.bar(rng, occurList)\n",
    "plt.xlabel('Letter'); plt.ylabel('Occurence')\n",
    "plt.xticks(rng, letterList)\n",
    "tmpString = 'Occurrence of Letters from {} to {}'.format(letterList[0], letterList[len(letterList)-1])\n",
    "plt.title(tmpString)\n",
    "plt.show()"
   ]
  },
  {
   "cell_type": "markdown",
   "metadata": {
    "slideshow": {
     "slide_type": "slide"
    }
   },
   "source": [
    "### &#9632; Probability"
   ]
  },
  {
   "cell_type": "code",
   "execution_count": 21,
   "metadata": {
    "scrolled": true,
    "slideshow": {
     "slide_type": "fragment"
    }
   },
   "outputs": [
    {
     "data": {
      "image/png": "[encoded data removed]",
      "text/plain": [
       "<Figure size 576x360 with 1 Axes>"
      ]
     },
     "metadata": {
      "needs_background": "light"
     },
     "output_type": "display_data"
    }
   ],
   "source": [
    "%matplotlib inline\n",
    "\n",
    "import numpy as np\n",
    "import matplotlib.pyplot as plt\n",
    "\n",
    "# Occurrence to probability: \n",
    "probList = np.array(occurList, dtype='float')/sum(occurList)\n",
    "\n",
    "fig = plt.figure(figsize = (8,5))\n",
    "rng = range(len(probList))\n",
    "\n",
    "plt.bar(rng, probList, color='peachpuff')\n",
    "plt.xlabel('Letter'); plt.ylabel('Probability')\n",
    "plt.xticks(rng, letterList)\n",
    "tmpString = 'Probability of Letters from {} to {}'.format(letterList[0], letterList[len(letterList)-1])\n",
    "plt.title(tmpString)\n",
    "\n",
    "\n",
    "for i in range(len(rng)):\n",
    "    plt.text(i, probList[i]-.02, '{:.2f}'.format(probList[i]))\n",
    "\n",
    "plt.show()"
   ]
  },
  {
   "cell_type": "markdown",
   "metadata": {
    "slideshow": {
     "slide_type": "slide"
    }
   },
   "source": [
    "### &#9632; Entropy H(X)\n",
    "$$ H(X) = -\\sum_{x_i \\in X}{p(x_i)*log_2(p(x_i))} $$"
   ]
  },
  {
   "cell_type": "code",
   "execution_count": 24,
   "metadata": {},
   "outputs": [
    {
     "name": "stdout",
     "output_type": "stream",
     "text": [
      "1.9894910703001343\n"
     ]
    }
   ],
   "source": [
    "# you should write your own entropy function\n",
    "# Hx = ... # Hx is the entropy of source X.\n",
    "import math\n",
    "probList = list(float(i)/sum(occurList) for i in occurList)\n",
    "Hx = 0\n",
    "for i in range(len(probList)):\n",
    "    Hx += -probList[i]*math.log2(probList[i])\n",
    "print(Hx)"
   ]
  },
  {
   "cell_type": "code",
   "execution_count": 16,
   "metadata": {
    "slideshow": {
     "slide_type": "fragment"
    }
   },
   "outputs": [
    {
     "data": {
      "image/png": "[encoded data removed]",
      "text/plain": [
       "<Figure size 576x360 with 1 Axes>"
      ]
     },
     "metadata": {
      "needs_background": "light"
     },
     "output_type": "display_data"
    }
   ],
   "source": [
    "%matplotlib inline\n",
    "\n",
    "import numpy as np\n",
    "import matplotlib.pyplot as plt\n",
    "\n",
    "# Occurrence to probability: \n",
    "probList = list(float(i)/sum(occurList) for i in occurList)\n",
    "\n",
    "Hx = 1.99\n",
    "fig = plt.figure(figsize = (8,5))\n",
    "rng = range(len(probList))\n",
    "plt.bar(rng, probList, color='pink')\n",
    "plt.xlabel('Letter', size=13); plt.ylabel('Probability', size=13)\n",
    "if False:\n",
    "    plt.text(2., 0.9*max(probList), 'H(X) = {:.2f} bits/symbol'.format(Hx), {'color': 'b', 'fontsize': 12})\n",
    "else:\n",
    "    plt.text(1.5, 0.9*max(probList), 'H(X) = {:.2f} bits/symbol'.format(Hx), size=16, color='k',\n",
    "             bbox=dict(boxstyle=\"round\",\n",
    "                       ec=(1., 0.5, 0.5),\n",
    "                       fc=(1., 0.9, 0.7),)) # fc=(1., 0.8, 0.8),)) #\n",
    "for i in range(len(rng)):\n",
    "    plt.text(i, probList[i]-.02, '{:.2f}'.format(probList[i]), size = 12, color='k')                   \n",
    "plt.xticks(rng, letterList)\n",
    "tmpString = 'Occurrence of Letters from {} to {}'.format(letterList[0], letterList[len(letterList)-1])\n",
    "plt.title(tmpString, size=14)\n",
    "plt.show()"
   ]
  },
  {
   "cell_type": "markdown",
   "metadata": {
    "slideshow": {
     "slide_type": "slide"
    }
   },
   "source": [
    "### &#9632; Randomly generated Message with a given probability set\n",
    "#### By the way, Python also has seed( ), but we cannot control the probability of each letter"
   ]
  },
  {
   "cell_type": "code",
   "execution_count": 27,
   "metadata": {
    "slideshow": {
     "slide_type": "fragment"
    }
   },
   "outputs": [
    {
     "data": {
      "text/plain": [
       "[66, 73, 67, 89, 78, 73, 68, 91, 66, 77]"
      ]
     },
     "execution_count": 27,
     "metadata": {},
     "output_type": "execute_result"
    }
   ],
   "source": [
    "import random\n",
    "\n",
    "random.seed(123)\n",
    "numbers = [random.randrange(65, 65 + 26 + 1) for i in range(10)]\n",
    "numbers\n"
   ]
  },
  {
   "cell_type": "markdown",
   "metadata": {},
   "source": [
    "#### Random message with given probability set: \n",
    "__Method 1__ using `numpy.random.choice()`.<br>\n",
    "\n",
    "Information of `numpy.random.choice()` can be found: <br> https://het.as.utexas.edu/HET/Software/Numpy/reference/generated/numpy.random.choice.html "
   ]
  },
  {
   "cell_type": "code",
   "execution_count": 38,
   "metadata": {
    "scrolled": true,
    "slideshow": {
     "slide_type": "fragment"
    }
   },
   "outputs": [
    {
     "data": {
      "text/plain": [
       "['C', 'A', 'A', 'B', 'C', 'A', 'D', 'C', 'A', 'A']"
      ]
     },
     "execution_count": 38,
     "metadata": {},
     "output_type": "execute_result"
    }
   ],
   "source": [
    "import numpy as np\n",
    "\n",
    "np.random.seed(123)\n",
    "list(chr(np.random.choice(np.arange(65, 69), p=[0.5, 0.15, 0.15, 0.2])) for i in range(10))"
   ]
  },
  {
   "cell_type": "markdown",
   "metadata": {},
   "source": [
    "#### Random message with given probability set: \n",
    "__Method 2__ using `random.choices()` <br>\n",
    "Information of `random.choices()` can be found with keyword `choices()`: <br> https://www.w3schools.com/python/ref_random_choices.asp"
   ]
  },
  {
   "cell_type": "code",
   "execution_count": 33,
   "metadata": {
    "slideshow": {
     "slide_type": "fragment"
    }
   },
   "outputs": [
    {
     "name": "stdout",
     "output_type": "stream",
     "text": [
      "[65, 65, 69, 66, 70, 65, 69, 68, 70, 67, 68, 68, 68, 65, 69, 65, 69, 65, 68, 69] <class 'list'>\n",
      "['A', 'A', 'E', 'B', 'F', 'A', 'E', 'D', 'F', 'C', 'D', 'D', 'D', 'A', 'E', 'A', 'E', 'A', 'D', 'E']\n"
     ]
    }
   ],
   "source": [
    "from random import choices\n",
    "\n",
    "random.seed(123)\n",
    "letter = [65, 66, 67, 68, 69, 70]\n",
    "probability = [0.1, 0.05, 0.05, 0.2, 0.4, 0.2]\n",
    "\n",
    "msg1 = choices(letter, probability, k=20)\n",
    "\n",
    "print(msg1, type(msg1))\n",
    "print([chr(i) for i in msg1])"
   ]
  }
 ],
 "metadata": {
  "celltoolbar": "Slideshow",
  "kernelspec": {
   "display_name": "Python 3",
   "language": "python",
   "name": "python3"
  },
  "language_info": {
   "codemirror_mode": {
    "name": "ipython",
    "version": 3
   },
   "file_extension": ".py",
   "mimetype": "text/x-python",
   "name": "python",
   "nbconvert_exporter": "python",
   "pygments_lexer": "ipython3",
   "version": "3.7.0"
  }
 },
 "nbformat": 4,
 "nbformat_minor": 2
}
