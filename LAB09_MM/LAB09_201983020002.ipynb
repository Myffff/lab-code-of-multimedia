{
 "cells": [
  {
   "cell_type": "markdown",
   "metadata": {
    "slideshow": {
     "slide_type": "slide"
    }
   },
   "source": [
    "## <font color=blue> Python Lab #09 </font>: Understanding Entropy Coding: Part I\n",
    "### *Run-Length Coding and LZW compression* \n",
    "\n",
    "\n",
    "### Homework submission: School MOOC system\n",
    "### <font color=red> Due date: Dec. 8 (Wednesday), 24:00 </font>\n",
    "#### <font color=red> NOTE </font>: \n",
    "#1 ipynb file format should be <font color=red> LAB09_yourIDnumber.ipynb </font> ( ex:  LAB09_20185433224234.ipynb ).\n",
    "#2 If you don't follow the instructions #1, there is <font color=red>10 % penalty</font>.\n",
    "\n",
    "#3 Any copied submission won't be graded. \n",
    "> 1) i.e., 0 point for every same copy. <br>\n",
    "> 2) Also, slight modification of one version will be regarded as copy. </font>\n",
    ">```python\n",
    ">if copy found:\n",
    ">    for all copies:\n",
    ">        score = 0\n",
    ">```    \n",
    "\n",
    "----\n",
    "\n",
    "__NOTE__:<br>\n",
    "- 1 point for problem 1, 2, 4, 5\n",
    "- 3 points for problem 3, 6\n"
   ]
  },
  {
   "cell_type": "markdown",
   "metadata": {
    "slideshow": {
     "slide_type": "slide"
    }
   },
   "source": [
    "### Run-Length Coding\n",
    "\n",
    "Run-Length encoding result of a message `'DAAABBBBBBBBBBBCCCCD'` can be in several different formats, and we will use the `DA2B10C3D` format among them, which does not use any flag symbol. <br>\n",
    "In practical implementation, the numbers in length are generally fixed length (or VLC) coded. In our implementation, however, with the above format, we should check the next code is a value or character. (e.g., 'D2' or 'DA'). Also, when we decode 'B10', since we use string data type, we also need to verify the next value is a number or character after '1'.\n",
    "To avoid these complicated situation, therefore, it is better to use a `tuple` for simple en/decoding. In this case, the result will be `[('D', 0), ('A', 2), ('B', 10), ('C', 3), ('D', 0)]`. \n",
    "\n",
    "\n",
    "__Pseudocode__ for Run Length encoding:\n",
    "`````````python\n",
    "Loop: count = 0\n",
    "      REPEAT\n",
    "          get next symbol\n",
    "          count = count + 1\n",
    "      UNTIL (symbol unequal to next one)\n",
    "      output symbol\n",
    "      IF count > 1\n",
    "          output count\n",
    "      GOTO Loop\n",
    "``````````\n",
    "\n",
    "#### (1) Write a  RLC encoding function RlcEncode() according to the following conditions. And print out the RLC results of the given messages and compression ratio of each message.\n",
    "#### Condition:\n",
    "* Input arg: string\n",
    "* Output (return value): a list containing tuples\n",
    "* Tuple order: (symbol, run length)\n",
    "* Input message: `'AAA'` and `'AAAAAAAAAAAAAAAAAAAAAABBBBBCCCCCCCCCAAACCCCCCD'`\n",
    "* For compression ratio, we assume that 8 bits for each charater and each run. "
   ]
  },
  {
   "cell_type": "code",
   "execution_count": 1,
   "metadata": {},
   "outputs": [],
   "source": [
    "def RlcEncode(str):\n",
    "    tup = []\n",
    "    time = 0\n",
    "    for i in range(len(str)):\n",
    "        if i == 0 or (i>0 and str[i] == str[i-1]):\n",
    "            time+=1\n",
    "            if i == len(str)-1:\n",
    "                tup.append((str[i],time))\n",
    "        else:\n",
    "            tup.append((str[i-1],time))\n",
    "            time = 1\n",
    "            if i == len(str)-1:\n",
    "                tup.append((str[i],time))\n",
    "    return tup"
   ]
  },
  {
   "cell_type": "code",
   "execution_count": 2,
   "metadata": {
    "slideshow": {
     "slide_type": "fragment"
    }
   },
   "outputs": [
    {
     "name": "stdout",
     "output_type": "stream",
     "text": [
      "[('A', 3)]\n",
      "[('A', 22), ('B', 5), ('C', 9), ('A', 3), ('C', 6), ('D', 1)]\n",
      "compression ratio of message1 is : 1.50\n",
      "compression ratio of message2 is : 3.83\n"
     ]
    }
   ],
   "source": [
    "ex1 = 'AAA'\n",
    "ex2 = 'AAAAAAAAAAAAAAAAAAAAAABBBBBCCCCCCCCCAAACCCCCCD'\n",
    "print(RlcEncode(ex1))\n",
    "print(RlcEncode(ex2))\n",
    "rate1 = len(ex1)/(len(RlcEncode(ex1))*2)\n",
    "rate2 = len(ex2)/(len(RlcEncode(ex2))*2)\n",
    "print('compression ratio of message1 is : '+(\"%.2f\" % rate1))\n",
    "print('compression ratio of message2 is : '+(\"%.2f\" % rate2))"
   ]
  },
  {
   "cell_type": "markdown",
   "metadata": {
    "slideshow": {
     "slide_type": "slide"
    }
   },
   "source": [
    "#### (2) Write a RLC decoding function RlcDecode() according to the following conditions. And print both input and output messages.\n",
    "#### Condition:\n",
    "* Input arg: A list containing tuples (output codes of both messages in problem (1))\n",
    "* Output (return value): Symbols in string data type"
   ]
  },
  {
   "cell_type": "code",
   "execution_count": 3,
   "metadata": {},
   "outputs": [],
   "source": [
    "def RlcDecode(lst):\n",
    "    str = ''\n",
    "    for i in range(len(lst)):\n",
    "        for j in range(lst[i][1]):\n",
    "            str+=lst[i][0]\n",
    "    return str\n"
   ]
  },
  {
   "cell_type": "code",
   "execution_count": 25,
   "metadata": {
    "slideshow": {
     "slide_type": "fragment"
    }
   },
   "outputs": [
    {
     "name": "stdout",
     "output_type": "stream",
     "text": [
      "input: AAA\n",
      "output: AAA\n",
      "\n",
      "input: AAAAAAAAAAAAAAAAAAAAAABBBBBCCCCCCCCCAAACCCCCCD\n",
      "output: AAAAAAAAAAAAAAAAAAAAAABBBBBCCCCCCCCCAAACCCCCCD\n"
     ]
    }
   ],
   "source": [
    "str = input('input: ')\n",
    "print('output: '+RlcDecode(RlcEncode(str)))\n",
    "print()\n",
    "str = input('input: ')\n",
    "print('output: '+RlcDecode(RlcEncode(str)))"
   ]
  },
  {
   "cell_type": "markdown",
   "metadata": {},
   "source": [
    "#### (3) Show 'BW_text.png' image and apply run length coding with the following conditions. And print 'original file size', 'RLC code length', and 'compression ratio'.\n",
    "\n",
    "__Conditions__:\n",
    "* Apply RLC for each line of the B&W image (the image is binary image, 0 or 255).\n",
    "* Calculate the original file size of the image and print it in `bits`.\n",
    "* Calculate the result of RLC also in `bits` and print it. \n",
    "* When you calculate RLC code length, we assume that __10 bits__ are assigned for each __run__, and __1 bit__ for each __character__ (i.e., B or W or in a tuple (B, 25)).\n",
    "* Compression ratio of RLC = org file size / RLC bits"
   ]
  },
  {
   "cell_type": "code",
   "execution_count": 55,
   "metadata": {},
   "outputs": [
    {
     "name": "stdout",
     "output_type": "stream",
     "text": [
      "Original file size :211968 bits\n",
      "RLC code length    : 123101 bits\n",
      "Compression ratio  :1.72\n"
     ]
    }
   ],
   "source": [
    "from PIL import Image\n",
    "import numpy as np\n",
    "import matplotlib.pyplot as plt\n",
    "\n",
    "path=r\"./BW_text.png\"\n",
    "im = Image.open(path).convert('L')\n",
    "im1=np.array(im).tolist()\n",
    "im2 = np.array(im).ravel()\n",
    "code_len = 0\n",
    "total =[]\n",
    "for i in range(len(im1)):\n",
    "    total.append(RlcEncode(im1[i]))\n",
    "for j in range(len(total)):\n",
    "    code_len+=len(total[j])\n",
    "\n",
    "\n",
    "print('Original file size :'+\"%.0f\" % len(im2)+' bits')\n",
    "print('RLC code length    : '+\"%.0f\" % (code_len*11)+' bits')\n",
    "print('Compression ratio  :'+\"%.2f\" % (len(im2)/(code_len*11)))\n"
   ]
  },
  {
   "cell_type": "markdown",
   "metadata": {
    "slideshow": {
     "slide_type": "slide"
    }
   },
   "source": [
    "### LZW compression: Encoding\n",
    "#### Pseudocode\n",
    "\n",
    "``` python\n",
    "BEGIN\n",
    "\ts = current input character;\n",
    "\twhile not EOF\n",
    "\t{\n",
    "\t\tc = next input character;\n",
    "\t\tif s + c exists in the dictionary\n",
    "\t\t\ts = s + c;\n",
    "\t\telse\n",
    "\t\t{\n",
    "\t\t\toutput the code for s;\n",
    "\t\t\tadd string s + c to the dictionary with a new code;\n",
    "\t\t\ts = c\n",
    "\t\t}\n",
    "\t}\n",
    "\toutput the code for s;\n",
    "END\n",
    "\n",
    "```"
   ]
  },
  {
   "cell_type": "markdown",
   "metadata": {
    "slideshow": {
     "slide_type": "slide"
    }
   },
   "source": [
    "* The assumption of the above pseudocode is that we already have a defaut dictionary. Therefore, we need to make one default dictionary before LZW encoding. \n",
    "* One simple way to create a LZW dictionary is using the dictionary data structure in Python.\n",
    "* One more thing to consider is that the types of symbol. For simplicity, let's assume that symbols are all upper case alphabets (ASCII code from 65 to 90).\n",
    "* Instead of `while` loop, `for` loop can be easier in Python.\n",
    "* Also, instead of EOF, we can use length of the input message to check the end of message string."
   ]
  },
  {
   "cell_type": "code",
   "execution_count": 26,
   "metadata": {
    "slideshow": {
     "slide_type": "fragment"
    }
   },
   "outputs": [
    {
     "name": "stdout",
     "output_type": "stream",
     "text": [
      "{'A': 65, 'B': 66, 'C': 67, 'D': 68}\n"
     ]
    }
   ],
   "source": [
    "dict1 = {chr(i): i for i in range(65, 65 + 4)}\n",
    "print(dict1)"
   ]
  },
  {
   "cell_type": "markdown",
   "metadata": {
    "slideshow": {
     "slide_type": "slide"
    }
   },
   "source": [
    "#### (4) Write a LZW encoding function LzwEncode() according to the following conditions. And print the final (updated) dictionary, LZW code stream, compression ratio.\n",
    "#### Condition:\n",
    "* Input arg: Message (`string`), the number of symbols (i.e., how many symbols we use from A to ?. If \"the number of symbols\" is 4, then we use A, B, C, and D).\n",
    "* Output arg (return values): LZW code (`int`) in a `list` (e.g., [1, 2, 4, 5, 1])\n",
    "* Use `while` loop (same way as the above pseudocode).\n",
    "* Input message: `'ABABBABCABABBA'` (same as the lecture slide example)\n",
    "* Initial dictionary: {'A': 1, 'B': 2, 'C': 3, ... up to the specified number of symbols}\n",
    "* When you calculate compression ratio, assign __8 bits__ for each __charater__ and __4 bits__ for each __LZW codeword__."
   ]
  },
  {
   "cell_type": "code",
   "execution_count": 6,
   "metadata": {},
   "outputs": [
    {
     "name": "stdout",
     "output_type": "stream",
     "text": [
      "*final dictionary*\n",
      "-------------------\n",
      "Code    Letter\n",
      "-------------------\n",
      "1    A\n",
      "2    B\n",
      "3    C\n",
      "4    AB\n",
      "5    BA\n",
      "6    ABB\n",
      "7    BAB\n",
      "8    BC\n",
      "9    CA\n",
      "10    ABA\n",
      "11    ABBA\n",
      "\n",
      "LZW code stream:  [1, 2, 4, 5, 2, 3, 4, 6, 1]\n",
      "Compression ratio:  3.11\n"
     ]
    }
   ],
   "source": [
    "def LzwEncode(str):\n",
    "    print('*final dictionary*')\n",
    "    print('-------------------')\n",
    "    print('Code','  ','Letter')\n",
    "    print('-------------------')\n",
    "    ini_dict = {'A':1,'B':2,'C':3}\n",
    "    List = []\n",
    "    \n",
    "    a = 0#切片的前端\n",
    "    num = 3\n",
    "    P = str[a]\n",
    "    while a<len(str)-1:\n",
    "        C = str[a+1]\n",
    "        if (P+C) in ini_dict.keys():\n",
    "            P = P+C\n",
    "            a = a+1\n",
    "        else:\n",
    "            ini_dict.update({(P+C):num+1})\n",
    "            num+=1\n",
    "            List.append(ini_dict[P])\n",
    "            P = C\n",
    "            a = a+1\n",
    "    List.append(ini_dict[P])\n",
    "    for i in range(len(list(ini_dict.items()))):\n",
    "        print(list(ini_dict.items())[i][1],'  ',list(ini_dict.items())[i][0])\n",
    "    return List,ini_dict\n",
    "\n",
    "lst,ini = LzwEncode('ABABBABCABABBA')\n",
    "\n",
    "print()\n",
    "print('LZW code stream: ',lst)\n",
    "print('Compression ratio: ',round((8*len('ABABBABCABABBA'))/(4*len(lst)),2))\n"
   ]
  },
  {
   "cell_type": "markdown",
   "metadata": {
    "slideshow": {
     "slide_type": "slide"
    }
   },
   "source": [
    "### LZW compression: Decoding\n",
    "#### Pseudocode\n",
    "``` python\n",
    "BEGIN\n",
    "\ts = NIL;\n",
    "\twhile not EOF\n",
    "\t{\n",
    "\t\tk = next input code;             # k is a codeword, i.e., 1, 2, 3, etc.\n",
    "\t\tentry = dictionary entry for k;  # entry is symbol(s), i.e., A, B, AB, etc.\n",
    "\t\toutput entry;\n",
    "\t\tif ( s != NIL) \t\t\n",
    "\t\t\tadd string s + entry[0] to dictionary with a new code; # entry[0]: the 1st letter\n",
    "\t\ts = entry;\n",
    "\t}\n",
    "END\n",
    "```"
   ]
  },
  {
   "cell_type": "markdown",
   "metadata": {
    "slideshow": {
     "slide_type": "slide"
    }
   },
   "source": [
    "#### Tip\n",
    "* Assuming our dictionary is formed with (symbol, code) pairs like {'A': 1, 'B': 2, 'C': 3}, it is easy to get a value by a key. However, we need to get a key by a value. In this case, we need to think a bit. Let's see the below examples.\n",
    "\n",
    "#### Getting a value by a key"
   ]
  },
  {
   "cell_type": "code",
   "execution_count": 39,
   "metadata": {
    "slideshow": {
     "slide_type": "fragment"
    }
   },
   "outputs": [
    {
     "name": "stdout",
     "output_type": "stream",
     "text": [
      "{'A': 1, 'B': 2, 'C': 3}\n",
      "\n",
      "3\n"
     ]
    }
   ],
   "source": [
    "myDict =  {'A': 1, 'B': 2, 'C': 3}\n",
    "print(myDict)\n",
    "print()\n",
    "print(myDict['C'])"
   ]
  },
  {
   "cell_type": "markdown",
   "metadata": {
    "slideshow": {
     "slide_type": "slide"
    }
   },
   "source": [
    "#### Getting a key by a value\n",
    "Unfortunately, there is no built-in function to get a key by a value in dictionary.\n",
    "Then, we can make one.\n",
    "\n",
    "But do we really need this new function? <br>\n",
    "**What if...?** <br>\n",
    "There is a really easy way to solve this problem **without** any new function. <br>\n",
    "If you fully understand the LZW decoding procedure, then you will know. <br>\n",
    "Figure it out by yourself. &#128522;"
   ]
  },
  {
   "cell_type": "markdown",
   "metadata": {
    "slideshow": {
     "slide_type": "slide"
    }
   },
   "source": [
    "#### (5) Write a LZW decoding function LzwDecode() according to the following conditions. And print the final (updated) dictionary, LZW code stream, the original message, and decoded message.\n",
    "#### Condition:\n",
    "* Input arg: LZW code stream (`list`), the number of symbols\n",
    "* Output arg (return values): Symbols (`string`) \n",
    "* Use `while` loop (same way as the above pseudocode).\n",
    "* Input code stream: The resulting code stream of problem (3)\n",
    "* Initial dictionary: Same codeword mapping as the above LZW encoder"
   ]
  },
  {
   "cell_type": "code",
   "execution_count": 7,
   "metadata": {},
   "outputs": [
    {
     "name": "stdout",
     "output_type": "stream",
     "text": [
      "*final dictionary*\n",
      "-------------------\n",
      "Code    Letter\n",
      "-------------------\n",
      "1    A\n",
      "2    B\n",
      "3    C\n",
      "4    AB\n",
      "5    BA\n",
      "6    ABB\n",
      "7    BAB\n",
      "8    BC\n",
      "9    CA\n",
      "10    ABA\n",
      "11    ABBA\n",
      "\n",
      "Encoded stream: [1, 2, 4, 5, 2, 3, 4, 6, 1]\n",
      "Orginal message:  ABABBABCABABBA\n",
      "Decoded message:  ABABBABCABABBA\n"
     ]
    }
   ],
   "source": [
    "def LzwDecode(List):\n",
    "    lst1 = list(ini.items())\n",
    "    a = 0\n",
    "    decode = ''\n",
    "    while a<len(List):\n",
    "        for i in range(len(lst1)):\n",
    "            if List[a]==lst1[i][1]:\n",
    "                decode+=lst1[i][0]\n",
    "        a+=1\n",
    "    return decode\n",
    "\n",
    "lst,ini = LzwEncode('ABABBABCABABBA')\n",
    "print()\n",
    "print('Encoded stream:',lst)\n",
    "print('Orginal message: ','ABABBABCABABBA')\n",
    "print('Decoded message: ',LzwDecode(lst))"
   ]
  },
  {
   "cell_type": "markdown",
   "metadata": {},
   "source": [
    "#### (6) Slightly modify the LzwEncode() function and apply it to 'kf_panda.png' image with the following conditions. And print 'original file size', 'LZW code length', and 'compression ratio'.\n",
    "__Conditions__:\n",
    "* Since we are dealing with an image, the number of symbols is 256.\n",
    "* In this problem, we assume that the size of dictionary is fixed to 1024, in other words, whenever the updated dictionary index equals to 1024, we need to initialize the dictionary to 256 length dictionary again (fixed 10 bits dictionary). In other words, 10 bits are assigned to each codeword of LZW code.\n"
   ]
  },
  {
   "cell_type": "code",
   "execution_count": 7,
   "metadata": {},
   "outputs": [],
   "source": [
    "def LzwEncode1(str1):\n",
    "    ini_dict = {str(i): i for i in range(256)}\n",
    "    List = []\n",
    "    P = ''\n",
    "    a = 0\n",
    "    while(a < len(str1)):\n",
    "        if len(ini_dict) >= 1024:\n",
    "            ini_dict = {str(i): i for i in range(256)}\n",
    "        C = str(str1[a])\n",
    "        if P + C in ini_dict:\n",
    "            P += C\n",
    "        else:\n",
    "            List.append(ini_dict[P])\n",
    "            ini_dict.update({ P+C : len(ini_dict)})\n",
    "            P = C\n",
    "        a += 1\n",
    "    return List, ini_dict"
   ]
  },
  {
   "cell_type": "code",
   "execution_count": 8,
   "metadata": {},
   "outputs": [
    {
     "name": "stdout",
     "output_type": "stream",
     "text": [
      "Original file size: 512000 bits\n",
      "LZW code length   : 335810 bits\n",
      "Compression ratio :  1.52\n"
     ]
    }
   ],
   "source": [
    "import imageio\n",
    "img1 = imageio.imread('kf_panda.png')\n",
    "print('Original file size:', img1.size*8, 'bits')\n",
    "lst1,ini1 = LzwEncode1(img1.ravel())\n",
    "print('LZW code length   :',len(lst1)*10,'bits')\n",
    "print('Compression ratio : ',round((img.size*8)/(len(lst1)*10),2))"
   ]
  }
 ],
 "metadata": {
  "celltoolbar": "Slideshow",
  "kernelspec": {
   "display_name": "Python 3",
   "language": "python",
   "name": "python3"
  },
  "language_info": {
   "codemirror_mode": {
    "name": "ipython",
    "version": 3
   },
   "file_extension": ".py",
   "mimetype": "text/x-python",
   "name": "python",
   "nbconvert_exporter": "python",
   "pygments_lexer": "ipython3",
   "version": "3.7.0"
  }
 },
 "nbformat": 4,
 "nbformat_minor": 2
}
