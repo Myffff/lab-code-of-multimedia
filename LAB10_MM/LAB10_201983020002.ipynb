{
 "cells": [
  {
   "cell_type": "markdown",
   "metadata": {
    "slideshow": {
     "slide_type": "slide"
    }
   },
   "source": [
    "## <font color=blue> Python Lab #10 </font>: Understanding Entropy Coding: Part II\n",
    "### *Huffman and Arithmetic Coding* \n",
    "\n",
    "\n",
    "### Homework submission: School MOOC system\n",
    "### <font color=red> Due date: Dec. 17 (Friday), 24:00 </font>\n",
    "#### <font color=red> NOTE </font>: \n",
    "#1 ipynb file format should be <font color=red> LAB10_yourIDnumber.ipynb </font> ( ex:  LAB10_20185433224234.ipynb ).\n",
    "#2 If you don't follow the instructions #1, there is <font color=red>10 % penalty</font>.\n",
    "\n",
    "#3 Any copied submission won't be graded. \n",
    "> 1) i.e., 0 point for every same copy. <br>\n",
    "> 2) Also, slight modification of one version will be regarded as copy. </font>\n",
    ">```python\n",
    ">if copy found:\n",
    ">    for all copies:\n",
    ">        score = 0\n",
    ">```    \n",
    "\n",
    "----\n",
    "\n"
   ]
  },
  {
   "cell_type": "markdown",
   "metadata": {
    "slideshow": {
     "slide_type": "slide"
    }
   },
   "source": [
    "### Huffman coding\n",
    "\n",
    "\n",
    "1. __Initialization__: put all symbols on the list sorted according to their frequency counts.\n",
    "2. __Repeat__ until the list has only one symbol left.\n",
    "    * From the list, pick two symbols with the lowest frequency counts. From a Huffman subtree that has these two symbols as child nodes and create a parent node for them.\n",
    "    * Assign the sum of the children’s frequency counts to the parent and insert it into the list, such that the order is maintained.\n",
    "    * Delete the children from the list.\n",
    "3. __Assign a codeword__ for each leaf based on the path from the root."
   ]
  },
  {
   "cell_type": "markdown",
   "metadata": {
    "slideshow": {
     "slide_type": "slide"
    }
   },
   "source": [
    "The above pseudocode can be __summarized__ as:\n",
    "1. __Sort symbols__ by their probabilities.\n",
    "2. __Pick__ two symbols with the __lowest probabilities__.\n",
    "3. __Merge__ the two symbols and __remove__ the chosen symbols.\n",
    "When we have only one symbol left. __Traverse__ the built binary tree and __assign '0' or '1'__.\n",
    "\n",
    "There are many ways to implement Huffman coding. Among them, using a tree structure is one of the most common way. However, using a tree is not that intuitive to see how the algorithm works.\n",
    "There are some options to implement Huffman code.\n",
    "1. Using `tree` structure (Need to implement tree first)\n",
    "2. Using `heapq` structure in Python\n",
    "3. Using `recursion` (Since 1 to 3 steps in the summary and bit assigning performs repeatedly)\n",
    "4. Using `two dictionaries` (One for symbol and prob., another for symbol and code mapping)\n",
    "\n",
    "The 4th one can be the most intuitive way to implement Huffman code and very similar procedure as we saw in the lecture slide.\n",
    "\n",
    "This is an example of how to use dictionaries for Huffman coding."
   ]
  },
  {
   "cell_type": "markdown",
   "metadata": {
    "slideshow": {
     "slide_type": "fragment"
    }
   },
   "source": [
    "#### Using two dictionaries\n",
    "* Probability dictionary\n",
    "\n",
    "|Symbol|Prob.|\n",
    "|:-:|:-:|\n",
    "|A|0.1|\n",
    "|B|0.3|\n",
    "|C|0.6|\n",
    "\n",
    "* Code dictionary\n",
    "\n",
    "|Symbol|Code|\n",
    "|:-:|:-:|\n",
    "|A|00|\n",
    "|B|01|\n",
    "|C|1|"
   ]
  },
  {
   "cell_type": "markdown",
   "metadata": {
    "slideshow": {
     "slide_type": "slide"
    }
   },
   "source": [
    "### Some tips\n",
    "#### Sorting a dictionary by key\n",
    "In fact, it's not sorting a dictionary but rather generating a new sorted dictionary."
   ]
  },
  {
   "cell_type": "code",
   "execution_count": 1,
   "metadata": {
    "slideshow": {
     "slide_type": "fragment"
    }
   },
   "outputs": [
    {
     "name": "stdout",
     "output_type": "stream",
     "text": [
      "{'A': 0.2, 'B': 0.1, 'C': 0.7}\n"
     ]
    }
   ],
   "source": [
    "myDict = { 'C': 0.7, 'A': 0.2, 'B': 0.1 }\n",
    "\n",
    "sortedDict = dict((key, myDict[key]) for key in sorted(myDict.keys()))\n",
    "print(sortedDict)"
   ]
  },
  {
   "cell_type": "markdown",
   "metadata": {
    "slideshow": {
     "slide_type": "slide"
    }
   },
   "source": [
    "#### Sorting a dictionary by value"
   ]
  },
  {
   "cell_type": "code",
   "execution_count": 2,
   "metadata": {
    "slideshow": {
     "slide_type": "fragment"
    }
   },
   "outputs": [
    {
     "name": "stdout",
     "output_type": "stream",
     "text": [
      "{'B': 0.1, 'A': 0.2, 'C': 0.7}\n"
     ]
    }
   ],
   "source": [
    "myDict = { 'C': 0.7, 'A': 0.2, 'B': 0.1 }\n",
    "\n",
    "sortedDict2 = dict((k, myDict[k]) for k in sorted(myDict, key=myDict.get, reverse=False))\n",
    "print(sortedDict2)"
   ]
  },
  {
   "cell_type": "markdown",
   "metadata": {
    "slideshow": {
     "slide_type": "fragment"
    }
   },
   "source": [
    "We can use lambda function too.\n",
    "\n",
    "Reminder:"
   ]
  },
  {
   "cell_type": "code",
   "execution_count": 3,
   "metadata": {},
   "outputs": [
    {
     "name": "stdout",
     "output_type": "stream",
     "text": [
      "9\n"
     ]
    },
    {
     "data": {
      "text/plain": [
       "9"
      ]
     },
     "execution_count": 3,
     "metadata": {},
     "output_type": "execute_result"
    }
   ],
   "source": [
    "fun = lambda x : x ** 2\n",
    "\n",
    "print(fun(3))\n",
    "\n",
    "(lambda x : x ** 2)(3) # Anonymous lambda function"
   ]
  },
  {
   "cell_type": "markdown",
   "metadata": {},
   "source": [
    "__by values__"
   ]
  },
  {
   "cell_type": "code",
   "execution_count": 4,
   "metadata": {
    "slideshow": {
     "slide_type": "fragment"
    }
   },
   "outputs": [
    {
     "name": "stdout",
     "output_type": "stream",
     "text": [
      "{'B': 0.1, 'A': 0.2, 'C': 0.7}\n"
     ]
    }
   ],
   "source": [
    "myDict = { 'C': 0.7, 'A': 0.2, 'B': 0.1 }\n",
    "\n",
    "sortedDict3 = dict(sorted(myDict.items(), key= lambda item: item[1]))\n",
    "print(sortedDict3)"
   ]
  },
  {
   "cell_type": "markdown",
   "metadata": {},
   "source": [
    "__by keys__"
   ]
  },
  {
   "cell_type": "code",
   "execution_count": 5,
   "metadata": {
    "slideshow": {
     "slide_type": "fragment"
    }
   },
   "outputs": [
    {
     "name": "stdout",
     "output_type": "stream",
     "text": [
      "{'A': 0.2, 'B': 0.1, 'C': 0.7}\n"
     ]
    }
   ],
   "source": [
    "myDict = { 'C': 0.7, 'A': 0.2, 'B': 0.1 }\n",
    "\n",
    "sortedDict4 = dict(sorted(myDict.items(), key= lambda item: item[0]))\n",
    "print(sortedDict4)"
   ]
  },
  {
   "cell_type": "markdown",
   "metadata": {
    "slideshow": {
     "slide_type": "fragment"
    }
   },
   "source": [
    "If we need only sorted key by its value, then this also works."
   ]
  },
  {
   "cell_type": "code",
   "execution_count": 6,
   "metadata": {
    "slideshow": {
     "slide_type": "fragment"
    }
   },
   "outputs": [
    {
     "name": "stdout",
     "output_type": "stream",
     "text": [
      "['B', 'A', 'C']\n",
      "0.7\n"
     ]
    }
   ],
   "source": [
    "myDict = { 'C': 0.7, 'A': 0.2, 'B': 0.1 }\n",
    "\n",
    "sortedKeys = sorted(myDict, key= myDict.get)\n",
    "print(sortedKeys)\n",
    "print(myDict.get('C'))"
   ]
  },
  {
   "cell_type": "markdown",
   "metadata": {},
   "source": [
    "This is how to merge two dictionaries using dictionary method `update()`."
   ]
  },
  {
   "cell_type": "code",
   "execution_count": 7,
   "metadata": {
    "slideshow": {
     "slide_type": "fragment"
    }
   },
   "outputs": [
    {
     "name": "stdout",
     "output_type": "stream",
     "text": [
      "{'C': 0.1, 'A': 0.2, 'B': 0.3, 'E': 0.2, 'G': 0.15, 'F': 0.05}\n"
     ]
    }
   ],
   "source": [
    "aDict = { 'C': 0.1, 'A': 0.2, 'B': 0.3 }\n",
    "bDict = { 'E': 0.2, 'G': 0.15, 'F': 0.05 }\n",
    "\n",
    "aDict.update(bDict)\n",
    "print(aDict)"
   ]
  },
  {
   "cell_type": "markdown",
   "metadata": {
    "slideshow": {
     "slide_type": "slide"
    }
   },
   "source": [
    "#### (1) Write a Huffman code generating function HuffmanCode() according to the following conditions. And print the dictionary of symbol and code.\n",
    "\n",
    "#### Condition:\n",
    "* Input arg: symbol and probability dictionary\n",
    "* Output (return value): symbol and code dictionary\n",
    "* When sorting symbols with the same probabilities, Do <font color=red>__NOT__</font> change the order. (e.g., {A:0.1, B:0.1}).\n",
    "* Do <font color=red>__NOT__</font> use `tree`, `heapq` structure, or `recursion`.\n",
    "* The order used in the lecture slides is in __ascending order from the bottom__ and we can interpret this as a transposed vecter. When we sort the dictionary, the order should be in __ascending order from the left__.\n",
    "* When you assign bits = {0, 1} to symbol, apply the same rule as the lecture slides, i.e., `1` to `top` and `0` to `bottom`.  \n",
    "* Don't need to repeat until **one symbol left** (this is tree based algorithm). In our case, **repeat until two symbols left**\n",
    "* Input dictionary: <br> \n",
    "    1. {'A': 0.1, 'B': 0.19, 'C': 0.21, 'D': 0.3, 'E': 0.05, 'F': 0.05, 'G': 0.07, 'H': 0.03 } <br> (This is the same as lecture slides, so check the result), \n",
    "    2. {'A': 1.0} \n",
    "* Code: `string` data type"
   ]
  },
  {
   "cell_type": "code",
   "execution_count": 16,
   "metadata": {},
   "outputs": [
    {
     "name": "stdout",
     "output_type": "stream",
     "text": [
      "Symbol \tCode\n",
      "----------------\n",
      "A \t 1011\n",
      "B \t 00\n",
      "C \t 01\n",
      "D \t 11\n",
      "E \t 10101\n",
      "F \t 1000\n",
      "G \t 1001\n",
      "H \t 10100\n",
      "\n",
      "Symbol \tCode\n",
      "----------------\n",
      "A \t 0\n"
     ]
    }
   ],
   "source": [
    "def HuffmanCode(myDict):\n",
    "    codeDict = {}.fromkeys(myDict.keys(), '')\n",
    "    \n",
    "    if (len(myDict) < 2):\n",
    "        key = list(myDict.keys())[0]\n",
    "        codeDict[key] = 0\n",
    "        return codeDict\n",
    "        \n",
    "    myList = []\n",
    "    sortedDict = dict((k, myDict[k]) for k in sorted(myDict, key=myDict.get, reverse=False))\n",
    "    sortedDict1 = dict((k, myDict[k]) for k in sorted(myDict, key=myDict.get, reverse=False))\n",
    "    myList.append(sortedDict1)\n",
    "    for i in range(len(sortedDict)-2):\n",
    "        myList.append(sortedDict)\n",
    "        keyList = list(sortedDict.keys())\n",
    "        valueList = list(sortedDict.values())\n",
    "        sortedDict[keyList[0]+keyList[1]] = round(valueList[0]+valueList[1],2)\n",
    "        for j in keyList[0]:\n",
    "            codeDict[j] += '0'\n",
    "        for k in keyList[1]:\n",
    "            codeDict[k] += '1'\n",
    "        sortedDict.pop(keyList[0])\n",
    "        sortedDict.pop(keyList[1])\n",
    "\n",
    "        newDict = {}\n",
    "        newDict[keyList[0]+keyList[1]] = round(valueList[0]+valueList[1],2)\n",
    "        newDict.update(sortedDict)\n",
    "        sortedDict = newDict\n",
    "        sortedDict = dict(sorted(sortedDict.items(), key= lambda item: item[1]))\n",
    "        \n",
    "    for i in list(myList[-1].keys())[0]:\n",
    "        codeDict[i] += '0'\n",
    "    for i in list(myList[-1].keys())[1]:\n",
    "        codeDict[i] += '1'   \n",
    "    for k, v in codeDict.items():\n",
    "        codeDict[k] = v[::-1]\n",
    "        \n",
    "    return codeDict\n",
    "    \n",
    "myDict1 = {'A': 0.1, 'B': 0.19, 'C': 0.21, 'D': 0.3, 'E': 0.05, 'F': 0.05, 'G': 0.07, 'H': 0.03 }\n",
    "myDict2 = {'A': 1.0 }\n",
    "codeDict1 = HuffmanCode(myDict1)\n",
    "codeDict2 = HuffmanCode(myDict2)\n",
    "print('Symbol', '\\tCode')\n",
    "print('----------------')\n",
    "for k, v in codeDict1.items():\n",
    "    print(k, '\\t', v)\n",
    "print('\\nSymbol', '\\tCode')\n",
    "print('----------------')\n",
    "for k, v in codeDict2.items():\n",
    "    print(k, '\\t', v)"
   ]
  },
  {
   "cell_type": "markdown",
   "metadata": {
    "slideshow": {
     "slide_type": "slide"
    }
   },
   "source": [
    "#### (2) Write a function which calculates the number of bits based on Huffman code, HuffmanCodeLength(). And print the number of Huffman coded bits and one table in the following format.\n",
    "\n",
    "\n",
    "|Symbol|Code|Occurrence|\n",
    "|-|-|-|\n",
    "|A|1|34|\n",
    "|B|01|14|\n",
    "|C|00|12|\n",
    "\n",
    "#### Condition:\n",
    "* Input arg: `string` message.\n",
    "* Output (return value): number of code bits (`int`), code `dictionary`, count `dictionary`.\n",
    "* Input message: 'ABCABCABCABCABCAAAAAAAAAAAAAAAAABBCCCCCCCDDDDADDDDAADDDDDABC'\n",
    "\n",
    "\n",
    "#### NOTE: \n",
    "* Example: Number of bits of 'AAABBBCCC' with {'A': 0, 'B': 10, 'C': 11} = 3\\*1+3\\*2+3\\*2 = 15.\n",
    "* Count dictionary means the occurrence of symbols. In the above example, A: 3, B: 3, C: 3."
   ]
  },
  {
   "cell_type": "code",
   "execution_count": 22,
   "metadata": {},
   "outputs": [
    {
     "name": "stdout",
     "output_type": "stream",
     "text": [
      "Length of message: 60\n",
      "Number of bits coded:115 bits\n",
      "\n",
      "Symbol\tCode\tOccurrence\n",
      "-----------------------\n",
      "A \t 0 \t 26\n",
      "B \t 110 \t 8\n",
      "C \t 111 \t 13\n",
      "D \t 10 \t 13\n"
     ]
    }
   ],
   "source": [
    "message = 'ABCABCABCABCABCAAAAAAAAAAAAAAAAABBCCCCCCCDDDDADDDDAADDDDDABC'\n",
    "print('Length of message: '+str(len(message)))\n",
    "def HuffmanCodeLength(message):\n",
    "    nDict = {}\n",
    "    for i in range(len(message)):\n",
    "        if message[i] in nDict.keys():\n",
    "            nDict[message[i]]+=1\n",
    "        else:\n",
    "            nDict.update({message[i]:1})\n",
    "    # nDict = {'A': 26, 'B': 8, 'C': 13, 'D': 13}\n",
    "    \n",
    "    mDict = {}\n",
    "    keyList = list(nDict.keys())\n",
    "    valueList = list(nDict.values())\n",
    "    \n",
    "    for j in range(len(nDict)):\n",
    "        mDict.update({keyList[j]:round((valueList[j]/60),2)})\n",
    "        \n",
    "    codeDict = HuffmanCode(mDict)\n",
    "    # codeDict = {'A': 26, 'B': 8, 'C': 13, 'D': 13}\n",
    "\n",
    "    length = 0\n",
    "    for k in nDict.keys():\n",
    "        length += nDict[k]*len(codeDict[k])\n",
    "        \n",
    "    return length,codeDict,nDict\n",
    "length,codeDict,nDict = HuffmanCodeLength(message)\n",
    "\n",
    "print('Number of bits coded:'+str(length)+' bits')\n",
    "    \n",
    "print('\\nSymbol\tCode\tOccurrence')\n",
    "print('-----------------------')\n",
    "for i in range(len(codeDict)):\n",
    "    keys = list(codeDict.keys())\n",
    "    v1 = list(codeDict.values())\n",
    "    v2 = list(nDict.values())\n",
    "    print(keys[i], '\\t',v1[i], '\\t',v2[i])\n",
    "    \n"
   ]
  },
  {
   "cell_type": "markdown",
   "metadata": {
    "collapsed": true,
    "slideshow": {
     "slide_type": "slide"
    }
   },
   "source": [
    "### Arithmetic coding\n",
    "#### Pseudocode of Encoder\n",
    "\n",
    "``` python\n",
    "BEGIN\n",
    "\tlow = 0.0;   high = 1.0;   range = 1.0;\n",
    "\twhile (symbol != terminator)\n",
    "\t{\n",
    "\t\tget (symbol);\n",
    "        high = low + range * range_high(symbol);\n",
    "        low = low + range * range_low(symbol);\n",
    "\t\trange = high – low;\n",
    "\t}\n",
    "\toutput a code so that low <= code < high;\n",
    "END\n",
    "\n",
    "```\n",
    "\n",
    "#### NOTE:\n",
    "|Symbol|Prob.|Range|\n",
    "|:----:|:----:|:----:|\n",
    "|A|0.3|[0.0 0.3)|\n",
    "|B|0.4|[0.3 0.7)|\n",
    "|C|0.3|[0.7 1.0)|\n",
    "\n",
    "* range_low(B) = 0.3, and range_high(B) = 0.7\n",
    "* `numpy.cumsum()` can be useful to generate prob. range."
   ]
  },
  {
   "cell_type": "markdown",
   "metadata": {
    "slideshow": {
     "slide_type": "slide"
    }
   },
   "source": [
    "#### (3) Write an ArithmeticCodeRange() function which prints final low and high values and probability range table.\n",
    "\n",
    "#### Condition:\n",
    "* Input arg: message in `string`, symbol and probability `dictionary`.\n",
    "* Output (return value): None.\n",
    "* Input message: 'CAEE\\$' (the same as lecture slides).\n",
    "* Probability table: refer to the lecture slides.\n"
   ]
  },
  {
   "cell_type": "code",
   "execution_count": 80,
   "metadata": {},
   "outputs": [
    {
     "name": "stdout",
     "output_type": "stream",
     "text": [
      "Symbol Prob. range\n",
      "-----------------------\n",
      "A\t[0, 0.2)\n",
      "B\t[0.2, 0.3)\n",
      "C\t[0.3, 0.5)\n",
      "D\t[0.5, 0.55)\n",
      "E\t[0.55, 0.85)\n",
      "F\t[0.85, 0.9)\n",
      "$\t[0.9, 1.0)\n",
      "\n",
      "low = 0.33184 ,high = 0.3322\n"
     ]
    }
   ],
   "source": [
    "def ArithmeticCodeRange(message,myDict):\n",
    "    myList = [0]\n",
    "    values = list(myDict.values())\n",
    "    k = 0\n",
    "    for j in range(len(values)):\n",
    "        k+=values[j]\n",
    "        myList.append(round(k,2))\n",
    "    # myList = [0, 0.2, 0.3, 0.5, 0.55, 0.85, 0.9, 1.0]\n",
    "    newDict = {'A':1,'B':2,'C':3,'D':4,'E':5,'F':6,'$':7}\n",
    "    low = myList[newDict[message[0]]-1]\n",
    "    high = myList[newDict[message[0]]]\n",
    "    \n",
    "    for i in range(1,len(message)):\n",
    "        a = newDict[message[i]]\n",
    "        b = low\n",
    "        c = high-low\n",
    "        low = b+c*myList[a-1]\n",
    "        high = b+c*myList[a]\n",
    "    \n",
    "    print('Symbol', 'Prob. range')\n",
    "    print('-----------------------')\n",
    "    for i in range(len(myDict)):\n",
    "        keys = list(myDict.keys())\n",
    "        print(keys[i] + '\\t[' + str(myList[i]) + ', ' + str(myList[i+1]) +')')\n",
    "        \n",
    "    print('\\nlow =',round(low,8),',high =',round(high,8))\n",
    "    return round(low,8),round(high,8);\n",
    "\n",
    "myDict = {'A':0.2,'B':0.1,'C':0.2,'D':0.05,'E':0.3,'F':0.05,'$':0.1}\n",
    "ArithmeticCodeRange('CAEE$',myDict);"
   ]
  },
  {
   "cell_type": "markdown",
   "metadata": {
    "slideshow": {
     "slide_type": "slide"
    }
   },
   "source": [
    "#### Range to arithmetic code\n",
    "\n",
    "#### Pseudocode\n",
    "\n",
    "``` python\n",
    "BEGIN\n",
    "\tcode = 0;\n",
    "\tk = 1;\n",
    "\twhile (value(code) < low)\n",
    "\t{\n",
    "\t\tassign 1 to the k-th binary fraction bit;\n",
    "\t\tif (value(code) > high)\n",
    "\t\t\treplace the k-th bit by 0;\n",
    "\t\tk = k + 1;\n",
    "\t}\n",
    "END\n",
    "\n",
    "```\n"
   ]
  },
  {
   "cell_type": "markdown",
   "metadata": {
    "slideshow": {
     "slide_type": "slide"
    }
   },
   "source": [
    "#### (4) Write a Range2Code() function based on the above pseudocode. And test with low = 0.33184000, high = 0.33220000 (the resulting code should be 01010101).\n",
    "\n",
    "#### Condition:\n",
    "**Range2Code()**\n",
    "* Input arg: `float` low, high.\n",
    "* Output: `string` code.\n",
    "\n",
    "__NOTE__: \n",
    "* When the length of message becomes very long, this function may have a precision problem. However, with our input message and its length, there won't be any problem. \n",
    "* The below example shows how to check the precision of `float` data type."
   ]
  },
  {
   "cell_type": "code",
   "execution_count": 14,
   "metadata": {},
   "outputs": [
    {
     "data": {
      "text/plain": [
       "sys.float_info(max=1.7976931348623157e+308, max_exp=1024, max_10_exp=308, min=2.2250738585072014e-308, min_exp=-1021, min_10_exp=-307, dig=15, mant_dig=53, epsilon=2.220446049250313e-16, radix=2, rounds=1)"
      ]
     },
     "execution_count": 14,
     "metadata": {},
     "output_type": "execute_result"
    }
   ],
   "source": [
    "import sys\n",
    "sys.float_info"
   ]
  },
  {
   "cell_type": "code",
   "execution_count": 74,
   "metadata": {},
   "outputs": [
    {
     "name": "stdout",
     "output_type": "stream",
     "text": [
      "value: 0.00000000 \t code: 0\n",
      "value: 0.25000000 \t code: 01\n",
      "value: 0.25000000 \t code: 010\n",
      "value: 0.31250000 \t code: 0101\n",
      "value: 0.31250000 \t code: 01010\n",
      "value: 0.32812500 \t code: 010101\n",
      "value: 0.32812500 \t code: 0101010\n",
      "value: 0.33203125 \t code: 01010101\n",
      "\n",
      "final code:  01010101\n"
     ]
    }
   ],
   "source": [
    "def Range2Code(low,high):\n",
    "    code = ''\n",
    "    codeList = []\n",
    "    prevalue = 0.5\n",
    "    value = 0\n",
    "    valueList = []\n",
    "    while value<low:\n",
    "        if (value+prevalue)>high:\n",
    "            code = code+'0'\n",
    "        else:\n",
    "            code = code+'1'\n",
    "            value+=prevalue\n",
    "        codeList.append(code)\n",
    "        valueList.append(value)\n",
    "        prevalue = prevalue/2\n",
    "    \n",
    "    for i in range(len(valueList)):\n",
    "        print('value:',str(\"%.8f\" % valueList[i]),'\\t','code:',str(codeList[i]))\n",
    "    print('\\nfinal code: ',codeList[-1])\n",
    "Range2Code(0.33184,0.3322)"
   ]
  },
  {
   "cell_type": "markdown",
   "metadata": {
    "slideshow": {
     "slide_type": "slide"
    }
   },
   "source": [
    "#### (5) By modifying ArithmeticCodeRange() function also using Range2Code() function, complete ArithmeticEncode() function. Print the final code of the given message below.\n",
    "\n",
    "#### Condition:\n",
    "\n",
    "**AtirthmeticEncode()**\n",
    "* Input arg: `string` message, symbol and probability `dictionary` . \n",
    "* Output (return value): `string` code.\n",
    "* Input message: 'CAEE\\$' (the same as lecture slides)."
   ]
  },
  {
   "cell_type": "code",
   "execution_count": 82,
   "metadata": {},
   "outputs": [
    {
     "name": "stdout",
     "output_type": "stream",
     "text": [
      "Symbol Prob. range\n",
      "-----------------------\n",
      "A\t[0, 0.2)\n",
      "B\t[0.2, 0.3)\n",
      "C\t[0.3, 0.5)\n",
      "D\t[0.5, 0.55)\n",
      "E\t[0.55, 0.85)\n",
      "F\t[0.85, 0.9)\n",
      "$\t[0.9, 1.0)\n",
      "\n",
      "low = 0.33184 ,high = 0.3322\n",
      "\n",
      "value: 0.00000000 \t code: 0\n",
      "value: 0.25000000 \t code: 01\n",
      "value: 0.25000000 \t code: 010\n",
      "value: 0.31250000 \t code: 0101\n",
      "value: 0.31250000 \t code: 01010\n",
      "value: 0.32812500 \t code: 010101\n",
      "value: 0.32812500 \t code: 0101010\n",
      "value: 0.33203125 \t code: 01010101\n",
      "\n",
      "final code:  01010101\n"
     ]
    }
   ],
   "source": [
    "def AtirthmeticEncode(message,myDict):\n",
    "    low,high = ArithmeticCodeRange(message,myDict)\n",
    "    print()\n",
    "    Range2Code(low,high)\n",
    "    \n",
    "myDict = {'A':0.2,'B':0.1,'C':0.2,'D':0.05,'E':0.3,'F':0.05,'$':0.1}\n",
    "AtirthmeticEncode('CAEE$',myDict)"
   ]
  },
  {
   "cell_type": "markdown",
   "metadata": {
    "slideshow": {
     "slide_type": "slide"
    }
   },
   "source": [
    "### Arithmetic coding\n",
    "#### Pseudocode of Decoder\n",
    "* __value__ is the number that has been received. In other words, value is decimal conversion of code.<br>  In the former example, __code__ = 01010101 and its __value__ = 0.33203125. \n",
    "\n",
    "\n",
    "``` python\n",
    "BEGIN\n",
    "low = 0.0;   high = 1.0;   range = 1.0;\n",
    "while(numSymbol < n):\n",
    "    Find symbol such that\n",
    "        range_low(symbol) <= (value - low)/(high - low) < range_high(symbol)\n",
    "\n",
    "    range = high - low\n",
    "    high = low + range * range_high(symbol)\n",
    "    low = low + range * range_low(symbol)\n",
    "\n",
    "    output symbol\n",
    "END\n",
    "```                            \n",
    "                            "
   ]
  },
  {
   "cell_type": "markdown",
   "metadata": {
    "slideshow": {
     "slide_type": "slide"
    }
   },
   "source": [
    "#### (6) Write an ArithmeticDecode() function and print the decoded message.\n",
    "\n",
    "#### Condition:\n",
    "* Input arg: `string` code, `int` number of symbol (in a code), symbol and probability `dictionary`.\n",
    "* Output arg: `string` message.\n",
    "* Input code: the final code stream of problem (5).\n",
    "* Number of symbol: 5 (because the original message is 'CAEE\\$').\n"
   ]
  },
  {
   "cell_type": "code",
   "execution_count": 27,
   "metadata": {},
   "outputs": [
    {
     "name": "stdout",
     "output_type": "stream",
     "text": [
      "CAEE$\n"
     ]
    }
   ],
   "source": [
    "def ArithmeticDecode(code,num,myDict):\n",
    "    keys = list(myDict.keys())\n",
    "    values = list(myDict.values())\n",
    "    newList = [0]\n",
    "    newDict = {}\n",
    "    mes = ''\n",
    "    \n",
    "    for i in range(len(keys)):\n",
    "        k = round(newList[i]+values[i],2)\n",
    "        newList.append(k)\n",
    "        newDict[keys[i]] = round(newList[i+1],2)\n",
    "    # newDict = {'A': 0.2, 'B': 0.3, 'C': 0.5, 'D': 0.55, 'E': 0.85, 'F': 0.9, '$': 1.0}\n",
    "    # newList = [0, 0.2, 0.3, 0.5, 0.55, 0.85, 0.9, 1.0]\n",
    "    \n",
    "    prevalue = 0.5\n",
    "    value = 0\n",
    "    j = 1\n",
    "    while j<=len(code):\n",
    "        if code[j-1] == '1':\n",
    "            value+=prevalue\n",
    "        prevalue = prevalue/2\n",
    "        j+=1\n",
    "    # value = 0.33203125\n",
    "    \n",
    "    m = 1\n",
    "    while m<num:\n",
    "        for n in range(1,len(newList)):\n",
    "            if newList[n-1] <= value<newList[n]:\n",
    "                mes=mes+keys[n-1]\n",
    "                value-=newList[n-1]\n",
    "                value/=values[n-1]\n",
    "        m+=1\n",
    "        if len(mes)==num:\n",
    "            break\n",
    "    print(mes)\n",
    "    \n",
    "    \n",
    "myDict = {'A':0.2,'B':0.1,'C':0.2,'D':0.05,'E':0.3,'F':0.05,'$':0.1}\n",
    "ArithmeticDecode('01010101',5,myDict)"
   ]
  },
  {
   "cell_type": "markdown",
   "metadata": {
    "slideshow": {
     "slide_type": "slide"
    }
   },
   "source": [
    "#### (7) Slightly modify the function of problem (2) (i.e., Huffman coding) to calculate the number of coded bits for the message 'CAEE\\$' (input message of arightmetic coding). <font color=red>Disscuss</font> why arithmetic code performs better than Huffman code.\n",
    "\n",
    "#### Condition:\n",
    "* Input arg: `string` message, symbol and probability `dictionary`.\n",
    "* Output: `int` amount of Huffman code bits."
   ]
  },
  {
   "cell_type": "code",
   "execution_count": 27,
   "metadata": {},
   "outputs": [
    {
     "name": "stdout",
     "output_type": "stream",
     "text": [
      "Symbol \tCode\n",
      "----------------\n",
      "A \t 00\n",
      "B \t 1011\n",
      "C \t 01\n",
      "D \t 10100\n",
      "E \t 11\n",
      "F \t 10101\n",
      "$ \t 100\n",
      "\n",
      "message:  CAEE$\n",
      "length of message:  5\n",
      "Huffman code stream: 01001111100\n",
      "Number of bits coded: 11 bits\n"
     ]
    }
   ],
   "source": [
    "message = 'CAEE$'\n",
    "Dict = {'A':0.2,'B':0.1,'C':0.2,'D':0.05,'E':0.3,'F':0.05,'$':0.1}\n",
    "\n",
    "def HuffmanCodeLength1(message,myDict):\n",
    "    code = HuffmanCode(myDict)\n",
    "#     return code\n",
    "    codes = ''\n",
    "    for i in range(len(message)):\n",
    "        codes+=code[message[i]]\n",
    "        \n",
    "    print('Symbol', '\\tCode')\n",
    "    print('----------------')\n",
    "    for k, v in code.items():\n",
    "        print(k, '\\t', v)\n",
    "        \n",
    "    print('\\nmessage: ',message)\n",
    "    print('length of message: ',len(message))\n",
    "    print('Huffman code stream:',codes)\n",
    "    print('Number of bits coded:',len(codes),'bits')\n",
    "\n",
    "HuffmanCodeLength1(message,Dict)"
   ]
  },
  {
   "cell_type": "markdown",
   "metadata": {},
   "source": [
    "<h> <font color=red> \n",
    "1. arithmetic code is more efficient.\n",
    "2. arithmetic code can save more space.\n",
    "</font> </h>"
   ]
  },
  {
   "cell_type": "markdown",
   "metadata": {},
   "source": [
    "#### (8) Using HuffmanCodeLength() function (from problem (2)), calculate the Huffman coded bits of  4 bit gray-scale 'bird.png' image. Show the 4-bit gray-scale image and probability of symbols using bar plot. Also, print 'original file size (4 bit gray-scale image)', 'Huffman code length', and 'compression ratio'.\n",
    "\n",
    "__Conditions__:\n",
    "\n",
    "* Since the original image has [0, 255] dynamic range, so remove BP0 to BP3 (i.e., four LSB bit planes). Then our symbols of the image will be within [0, 15] and this is the test image.\n",
    "* To make 2D signal to 1D one, we can use `ravel()`.\n",
    "\n",
    "__NOTE__:\n",
    "* If we change the data type of input image to `string` with alphabet (i.e., 0 to 'A', 1 to 'B', etc.), we don't need to modify any of two Huffman related functions in problem (1) and (2)."
   ]
  },
  {
   "cell_type": "code",
   "execution_count": 50,
   "metadata": {},
   "outputs": [
    {
     "name": "stdout",
     "output_type": "stream",
     "text": [
      "Original file size : 120000 bits\n",
      "Huffman code length::114779 bits\n",
      "Compression ratio  : 1.05\n"
     ]
    },
    {
     "data": {
      "text/plain": [
       "Text(0.5,1,'probablity of symbols')"
      ]
     },
     "execution_count": 50,
     "metadata": {},
     "output_type": "execute_result"
    },
    {
     "data": {
      "image/png": "[encoded data removed]",
      "text/plain": [
       "<Figure size 432x288 with 1 Axes>"
      ]
     },
     "metadata": {
      "needs_background": "light"
     },
     "output_type": "display_data"
    },
    {
     "data": {
      "image/png": "[encoded data removed]",
      "text/plain": [
       "<Figure size 432x288 with 1 Axes>"
      ]
     },
     "metadata": {
      "needs_background": "light"
     },
     "output_type": "display_data"
    }
   ],
   "source": [
    "import imageio\n",
    "import matplotlib.pyplot as plt\n",
    "\n",
    "birdImg = imageio.imread('./bird.png')\n",
    "testImg = birdImg>>4\n",
    "testImg = testImg.ravel()\n",
    "testImg +=65 # char\n",
    "char = ''\n",
    "for i in range(len(testImg)):\n",
    "    char+=chr(testImg[i])\n",
    "\n",
    "print('Original file size :',len(testImg)*4,'bits')\n",
    "length,codeDict,nDict = HuffmanCodeLength(char)\n",
    "print('Huffman code length::'+str(length)+' bits')\n",
    "print('Compression ratio  :',round(len(testImg)*4/length,2))\n",
    "\n",
    "\n",
    "valueList = list(nDict.values())\n",
    "newDict = {}\n",
    "for i in range(len(codeDict)):\n",
    "    valueList[i]/=len(testImg)\n",
    "    newDict[i] = valueList[i]\n",
    "\n",
    "plt.imshow(birdImg,'gray')\n",
    "fig, ax = plt.subplots()\n",
    "ax.bar(newDict.keys(), newDict.values())\n",
    "plt.title('probablity of symbols')"
   ]
  }
 ],
 "metadata": {
  "celltoolbar": "Slideshow",
  "kernelspec": {
   "display_name": "Python 3",
   "language": "python",
   "name": "python3"
  },
  "language_info": {
   "codemirror_mode": {
    "name": "ipython",
    "version": 3
   },
   "file_extension": ".py",
   "mimetype": "text/x-python",
   "name": "python",
   "nbconvert_exporter": "python",
   "pygments_lexer": "ipython3",
   "version": "3.7.0"
  }
 },
 "nbformat": 4,
 "nbformat_minor": 2
}
